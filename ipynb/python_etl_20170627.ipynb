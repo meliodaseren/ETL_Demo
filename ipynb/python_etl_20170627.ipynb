{
 "cells": [
  {
   "cell_type": "markdown",
   "metadata": {},
   "source": [
    "## Comment"
   ]
  },
  {
   "cell_type": "code",
   "execution_count": 5,
   "metadata": {},
   "outputs": [
    {
     "data": {
      "text/plain": [
       "'\\nthis can also be used as a comment\\nmulti line comment\\n'"
      ]
     },
     "execution_count": 5,
     "metadata": {},
     "output_type": "execute_result"
    }
   ],
   "source": [
    "# I am a comment\n",
    "\"\"\"\n",
    "this can also be used as a comment\n",
    "multi line comment\n",
    "\"\"\""
   ]
  },
  {
   "cell_type": "markdown",
   "metadata": {},
   "source": [
    "## Print"
   ]
  },
  {
   "cell_type": "code",
   "execution_count": 1,
   "metadata": {},
   "outputs": [
    {
     "name": "stdout",
     "output_type": "stream",
     "text": [
      "hello world\n"
     ]
    }
   ],
   "source": [
    "print(\"hello world\") # print \"hello world\""
   ]
  },
  {
   "cell_type": "code",
   "execution_count": 2,
   "metadata": {
    "scrolled": true
   },
   "outputs": [
    {
     "name": "stdout",
     "output_type": "stream",
     "text": [
      "123\n"
     ]
    }
   ],
   "source": [
    "print(123)"
   ]
  },
  {
   "cell_type": "markdown",
   "metadata": {},
   "source": [
    "## String"
   ]
  },
  {
   "cell_type": "code",
   "execution_count": 3,
   "metadata": {},
   "outputs": [
    {
     "data": {
      "text/plain": [
       "'hello'"
      ]
     },
     "execution_count": 3,
     "metadata": {},
     "output_type": "execute_result"
    }
   ],
   "source": [
    "\"hello\" # string"
   ]
  },
  {
   "cell_type": "code",
   "execution_count": 6,
   "metadata": {},
   "outputs": [
    {
     "data": {
      "text/plain": [
       "'hello again'"
      ]
     },
     "execution_count": 6,
     "metadata": {},
     "output_type": "execute_result"
    }
   ],
   "source": [
    "'hello again' # string"
   ]
  },
  {
   "cell_type": "code",
   "execution_count": 4,
   "metadata": {},
   "outputs": [
    {
     "data": {
      "text/plain": [
       "'hello\\nagain\\nand\\nagian'"
      ]
     },
     "execution_count": 4,
     "metadata": {},
     "output_type": "execute_result"
    }
   ],
   "source": [
    "\"\"\"hello\n",
    "again\n",
    "and\n",
    "agian\"\"\" # multi line string"
   ]
  },
  {
   "cell_type": "code",
   "execution_count": 7,
   "metadata": {},
   "outputs": [
    {
     "data": {
      "text/plain": [
       "str"
      ]
     },
     "execution_count": 7,
     "metadata": {},
     "output_type": "execute_result"
    }
   ],
   "source": [
    "type(\"hello\")"
   ]
  },
  {
   "cell_type": "markdown",
   "metadata": {},
   "source": [
    "## Integer"
   ]
  },
  {
   "cell_type": "code",
   "execution_count": 8,
   "metadata": {},
   "outputs": [
    {
     "data": {
      "text/plain": [
       "123"
      ]
     },
     "execution_count": 8,
     "metadata": {},
     "output_type": "execute_result"
    }
   ],
   "source": [
    "123 # int"
   ]
  },
  {
   "cell_type": "code",
   "execution_count": 10,
   "metadata": {},
   "outputs": [
    {
     "data": {
      "text/plain": [
       "456"
      ]
     },
     "execution_count": 10,
     "metadata": {},
     "output_type": "execute_result"
    }
   ],
   "source": [
    "456 # int"
   ]
  },
  {
   "cell_type": "code",
   "execution_count": 11,
   "metadata": {},
   "outputs": [
    {
     "data": {
      "text/plain": [
       "-1"
      ]
     },
     "execution_count": 11,
     "metadata": {},
     "output_type": "execute_result"
    }
   ],
   "source": [
    "-1 # int"
   ]
  },
  {
   "cell_type": "code",
   "execution_count": 12,
   "metadata": {},
   "outputs": [
    {
     "data": {
      "text/plain": [
       "int"
      ]
     },
     "execution_count": 12,
     "metadata": {},
     "output_type": "execute_result"
    }
   ],
   "source": [
    "type(100)"
   ]
  },
  {
   "cell_type": "markdown",
   "metadata": {},
   "source": [
    "## Float"
   ]
  },
  {
   "cell_type": "code",
   "execution_count": 13,
   "metadata": {},
   "outputs": [
    {
     "data": {
      "text/plain": [
       "3.14"
      ]
     },
     "execution_count": 13,
     "metadata": {},
     "output_type": "execute_result"
    }
   ],
   "source": [
    "3.14 # float"
   ]
  },
  {
   "cell_type": "code",
   "execution_count": 14,
   "metadata": {
    "scrolled": true
   },
   "outputs": [
    {
     "data": {
      "text/plain": [
       "float"
      ]
     },
     "execution_count": 14,
     "metadata": {},
     "output_type": "execute_result"
    }
   ],
   "source": [
    "type(3.14)"
   ]
  },
  {
   "cell_type": "markdown",
   "metadata": {},
   "source": [
    "## Boolean"
   ]
  },
  {
   "cell_type": "code",
   "execution_count": 15,
   "metadata": {},
   "outputs": [
    {
     "data": {
      "text/plain": [
       "True"
      ]
     },
     "execution_count": 15,
     "metadata": {},
     "output_type": "execute_result"
    }
   ],
   "source": [
    "True"
   ]
  },
  {
   "cell_type": "code",
   "execution_count": 16,
   "metadata": {},
   "outputs": [
    {
     "data": {
      "text/plain": [
       "False"
      ]
     },
     "execution_count": 16,
     "metadata": {},
     "output_type": "execute_result"
    }
   ],
   "source": [
    "False"
   ]
  },
  {
   "cell_type": "markdown",
   "metadata": {},
   "source": [
    "##### Truthy"
   ]
  },
  {
   "cell_type": "code",
   "execution_count": 17,
   "metadata": {},
   "outputs": [
    {
     "data": {
      "text/plain": [
       "123"
      ]
     },
     "execution_count": 17,
     "metadata": {},
     "output_type": "execute_result"
    }
   ],
   "source": [
    "123"
   ]
  },
  {
   "cell_type": "code",
   "execution_count": 21,
   "metadata": {},
   "outputs": [
    {
     "data": {
      "text/plain": [
       "'hello'"
      ]
     },
     "execution_count": 21,
     "metadata": {},
     "output_type": "execute_result"
    }
   ],
   "source": [
    "\"hello\""
   ]
  },
  {
   "cell_type": "markdown",
   "metadata": {},
   "source": [
    "#### Falsy"
   ]
  },
  {
   "cell_type": "code",
   "execution_count": 18,
   "metadata": {},
   "outputs": [
    {
     "data": {
      "text/plain": [
       "0"
      ]
     },
     "execution_count": 18,
     "metadata": {},
     "output_type": "execute_result"
    }
   ],
   "source": [
    "0"
   ]
  },
  {
   "cell_type": "code",
   "execution_count": 19,
   "metadata": {},
   "outputs": [
    {
     "data": {
      "text/plain": [
       "''"
      ]
     },
     "execution_count": 19,
     "metadata": {},
     "output_type": "execute_result"
    }
   ],
   "source": [
    "\"\""
   ]
  },
  {
   "cell_type": "markdown",
   "metadata": {},
   "source": [
    "## Algebra"
   ]
  },
  {
   "cell_type": "code",
   "execution_count": 22,
   "metadata": {},
   "outputs": [
    {
     "data": {
      "text/plain": [
       "2"
      ]
     },
     "execution_count": 22,
     "metadata": {},
     "output_type": "execute_result"
    }
   ],
   "source": [
    "1 + 1"
   ]
  },
  {
   "cell_type": "code",
   "execution_count": 23,
   "metadata": {},
   "outputs": [
    {
     "data": {
      "text/plain": [
       "1"
      ]
     },
     "execution_count": 23,
     "metadata": {},
     "output_type": "execute_result"
    }
   ],
   "source": [
    "2 - 1"
   ]
  },
  {
   "cell_type": "code",
   "execution_count": 24,
   "metadata": {},
   "outputs": [
    {
     "data": {
      "text/plain": [
       "4"
      ]
     },
     "execution_count": 24,
     "metadata": {},
     "output_type": "execute_result"
    }
   ],
   "source": [
    "2 * 2"
   ]
  },
  {
   "cell_type": "code",
   "execution_count": 25,
   "metadata": {},
   "outputs": [
    {
     "data": {
      "text/plain": [
       "1.5"
      ]
     },
     "execution_count": 25,
     "metadata": {},
     "output_type": "execute_result"
    }
   ],
   "source": [
    "3 / 2"
   ]
  },
  {
   "cell_type": "code",
   "execution_count": 28,
   "metadata": {},
   "outputs": [
    {
     "data": {
      "text/plain": [
       "8"
      ]
     },
     "execution_count": 28,
     "metadata": {},
     "output_type": "execute_result"
    }
   ],
   "source": [
    "2**3"
   ]
  },
  {
   "cell_type": "code",
   "execution_count": 30,
   "metadata": {},
   "outputs": [
    {
     "data": {
      "text/plain": [
       "1"
      ]
     },
     "execution_count": 30,
     "metadata": {},
     "output_type": "execute_result"
    }
   ],
   "source": [
    "10 % 3 # mod"
   ]
  },
  {
   "cell_type": "markdown",
   "metadata": {},
   "source": [
    "### Boolean operations"
   ]
  },
  {
   "cell_type": "code",
   "execution_count": 7,
   "metadata": {},
   "outputs": [
    {
     "data": {
      "text/plain": [
       "False"
      ]
     },
     "execution_count": 7,
     "metadata": {},
     "output_type": "execute_result"
    }
   ],
   "source": [
    "True and False"
   ]
  },
  {
   "cell_type": "code",
   "execution_count": 8,
   "metadata": {},
   "outputs": [
    {
     "data": {
      "text/plain": [
       "True"
      ]
     },
     "execution_count": 8,
     "metadata": {},
     "output_type": "execute_result"
    }
   ],
   "source": [
    "True or False"
   ]
  },
  {
   "cell_type": "code",
   "execution_count": 31,
   "metadata": {},
   "outputs": [
    {
     "data": {
      "text/plain": [
       "True"
      ]
     },
     "execution_count": 31,
     "metadata": {},
     "output_type": "execute_result"
    }
   ],
   "source": [
    "True == True"
   ]
  },
  {
   "cell_type": "code",
   "execution_count": 32,
   "metadata": {},
   "outputs": [
    {
     "data": {
      "text/plain": [
       "False"
      ]
     },
     "execution_count": 32,
     "metadata": {},
     "output_type": "execute_result"
    }
   ],
   "source": [
    "True == False"
   ]
  },
  {
   "cell_type": "code",
   "execution_count": 33,
   "metadata": {},
   "outputs": [
    {
     "data": {
      "text/plain": [
       "True"
      ]
     },
     "execution_count": 33,
     "metadata": {},
     "output_type": "execute_result"
    }
   ],
   "source": [
    "3 > 1"
   ]
  },
  {
   "cell_type": "code",
   "execution_count": 9,
   "metadata": {},
   "outputs": [
    {
     "data": {
      "text/plain": [
       "False"
      ]
     },
     "execution_count": 9,
     "metadata": {},
     "output_type": "execute_result"
    }
   ],
   "source": [
    "1 >= 3"
   ]
  },
  {
   "cell_type": "code",
   "execution_count": 35,
   "metadata": {},
   "outputs": [
    {
     "data": {
      "text/plain": [
       "True"
      ]
     },
     "execution_count": 35,
     "metadata": {},
     "output_type": "execute_result"
    }
   ],
   "source": [
    "True != False"
   ]
  },
  {
   "cell_type": "code",
   "execution_count": 36,
   "metadata": {},
   "outputs": [
    {
     "data": {
      "text/plain": [
       "False"
      ]
     },
     "execution_count": 36,
     "metadata": {},
     "output_type": "execute_result"
    }
   ],
   "source": [
    "True is False"
   ]
  },
  {
   "cell_type": "code",
   "execution_count": 37,
   "metadata": {},
   "outputs": [
    {
     "data": {
      "text/plain": [
       "True"
      ]
     },
     "execution_count": 37,
     "metadata": {},
     "output_type": "execute_result"
    }
   ],
   "source": [
    "True is True"
   ]
  },
  {
   "cell_type": "code",
   "execution_count": 38,
   "metadata": {},
   "outputs": [
    {
     "data": {
      "text/plain": [
       "True"
      ]
     },
     "execution_count": 38,
     "metadata": {},
     "output_type": "execute_result"
    }
   ],
   "source": [
    "not True is False # Python only feature!"
   ]
  },
  {
   "cell_type": "code",
   "execution_count": 39,
   "metadata": {},
   "outputs": [
    {
     "data": {
      "text/plain": [
       "False"
      ]
     },
     "execution_count": 39,
     "metadata": {},
     "output_type": "execute_result"
    }
   ],
   "source": [
    "\"a\" is \"A\""
   ]
  },
  {
   "cell_type": "code",
   "execution_count": 41,
   "metadata": {
    "scrolled": true
   },
   "outputs": [
    {
     "data": {
      "text/plain": [
       "True"
      ]
     },
     "execution_count": 41,
     "metadata": {},
     "output_type": "execute_result"
    }
   ],
   "source": [
    "\"a\" is \"a\""
   ]
  },
  {
   "cell_type": "code",
   "execution_count": 50,
   "metadata": {},
   "outputs": [
    {
     "name": "stdout",
     "output_type": "stream",
     "text": [
      "OK\n"
     ]
    }
   ],
   "source": [
    "# negative number is also truthy\n",
    "if -1:\n",
    "    print(\"OK\")"
   ]
  },
  {
   "cell_type": "markdown",
   "metadata": {},
   "source": [
    "## Variables"
   ]
  },
  {
   "cell_type": "code",
   "execution_count": 46,
   "metadata": {
    "collapsed": true
   },
   "outputs": [],
   "source": [
    "a123 = '1'"
   ]
  },
  {
   "cell_type": "code",
   "execution_count": 48,
   "metadata": {},
   "outputs": [
    {
     "ename": "SyntaxError",
     "evalue": "invalid syntax (<ipython-input-48-04f39144e95d>, line 1)",
     "traceback": [
      "\u001b[0;36m  File \u001b[0;32m\"<ipython-input-48-04f39144e95d>\"\u001b[0;36m, line \u001b[0;32m1\u001b[0m\n\u001b[0;31m    1aa = 1\u001b[0m\n\u001b[0m      ^\u001b[0m\n\u001b[0;31mSyntaxError\u001b[0m\u001b[0;31m:\u001b[0m invalid syntax\n"
     ],
     "output_type": "error"
    }
   ],
   "source": [
    "1aa = 1"
   ]
  },
  {
   "cell_type": "code",
   "execution_count": 51,
   "metadata": {
    "collapsed": true
   },
   "outputs": [],
   "source": [
    "x = 'my name'"
   ]
  },
  {
   "cell_type": "code",
   "execution_count": 52,
   "metadata": {},
   "outputs": [
    {
     "data": {
      "text/plain": [
       "'my name'"
      ]
     },
     "execution_count": 52,
     "metadata": {},
     "output_type": "execute_result"
    }
   ],
   "source": [
    "x"
   ]
  },
  {
   "cell_type": "markdown",
   "metadata": {},
   "source": [
    "## Conditional"
   ]
  },
  {
   "cell_type": "code",
   "execution_count": 54,
   "metadata": {},
   "outputs": [
    {
     "name": "stdout",
     "output_type": "stream",
     "text": [
      "hi\n"
     ]
    }
   ],
   "source": [
    "if 1:\n",
    "    print(\"hi\")"
   ]
  },
  {
   "cell_type": "code",
   "execution_count": 56,
   "metadata": {
    "collapsed": true
   },
   "outputs": [],
   "source": [
    "if 3 > 1:\n",
    "    pass"
   ]
  },
  {
   "cell_type": "code",
   "execution_count": 57,
   "metadata": {},
   "outputs": [
    {
     "name": "stdout",
     "output_type": "stream",
     "text": [
      "small int\n"
     ]
    }
   ],
   "source": [
    "x = 1\n",
    "if x > 3:\n",
    "    print(\"grater than 3\")\n",
    "else:\n",
    "    print(\"small int\")"
   ]
  },
  {
   "cell_type": "code",
   "execution_count": 59,
   "metadata": {},
   "outputs": [
    {
     "name": "stdout",
     "output_type": "stream",
     "text": [
      "grater than 2\n"
     ]
    }
   ],
   "source": [
    "x = 3\n",
    "if x > 3:\n",
    "    print(\"grater than 3\")\n",
    "elif x > 2:\n",
    "    print(\"grater than 2\")\n",
    "else:\n",
    "    print(\"small int\")"
   ]
  },
  {
   "cell_type": "markdown",
   "metadata": {
    "collapsed": true
   },
   "source": [
    "## Collections"
   ]
  },
  {
   "cell_type": "code",
   "execution_count": 10,
   "metadata": {},
   "outputs": [
    {
     "data": {
      "text/plain": [
       "'hello'"
      ]
     },
     "execution_count": 10,
     "metadata": {},
     "output_type": "execute_result"
    }
   ],
   "source": [
    "\"hello\""
   ]
  },
  {
   "cell_type": "code",
   "execution_count": 11,
   "metadata": {},
   "outputs": [
    {
     "data": {
      "text/plain": [
       "'e'"
      ]
     },
     "execution_count": 11,
     "metadata": {},
     "output_type": "execute_result"
    }
   ],
   "source": [
    "\"Hello\"[1]"
   ]
  },
  {
   "cell_type": "code",
   "execution_count": 12,
   "metadata": {},
   "outputs": [
    {
     "data": {
      "text/plain": [
       "'o'"
      ]
     },
     "execution_count": 12,
     "metadata": {},
     "output_type": "execute_result"
    }
   ],
   "source": [
    "\"Hello\"[-1]"
   ]
  },
  {
   "cell_type": "code",
   "execution_count": 13,
   "metadata": {},
   "outputs": [
    {
     "data": {
      "text/plain": [
       "'el'"
      ]
     },
     "execution_count": 13,
     "metadata": {},
     "output_type": "execute_result"
    }
   ],
   "source": [
    "\"Hello\"[1:3]"
   ]
  },
  {
   "cell_type": "code",
   "execution_count": 18,
   "metadata": {},
   "outputs": [
    {
     "data": {
      "text/plain": [
       "'eo'"
      ]
     },
     "execution_count": 18,
     "metadata": {},
     "output_type": "execute_result"
    }
   ],
   "source": [
    "\"Hello\"[1:6:3] # [start:end:step]"
   ]
  },
  {
   "cell_type": "code",
   "execution_count": 19,
   "metadata": {},
   "outputs": [
    {
     "data": {
      "text/plain": [
       "5"
      ]
     },
     "execution_count": 19,
     "metadata": {},
     "output_type": "execute_result"
    }
   ],
   "source": [
    "len(\"hello\")"
   ]
  },
  {
   "cell_type": "code",
   "execution_count": 21,
   "metadata": {},
   "outputs": [
    {
     "data": {
      "text/plain": [
       "'hello world'"
      ]
     },
     "execution_count": 21,
     "metadata": {},
     "output_type": "execute_result"
    }
   ],
   "source": [
    "\"hello\" + \" \" + \"world\" # concatenation"
   ]
  },
  {
   "cell_type": "code",
   "execution_count": 25,
   "metadata": {},
   "outputs": [
    {
     "ename": "TypeError",
     "evalue": "must be str, not int",
     "traceback": [
      "\u001b[0;31m---------------------------------------------------------------------------\u001b[0m",
      "\u001b[0;31mTypeError\u001b[0m                                 Traceback (most recent call last)",
      "\u001b[0;32m<ipython-input-25-7c239f0eee3e>\u001b[0m in \u001b[0;36m<module>\u001b[0;34m()\u001b[0m\n\u001b[0;32m----> 1\u001b[0;31m \u001b[0;34m\"3d printer is \"\u001b[0m \u001b[0;34m+\u001b[0m \u001b[0;36m199\u001b[0m \u001b[0;34m+\u001b[0m \u001b[0;34m\" dollars\"\u001b[0m\u001b[0;34m\u001b[0m\u001b[0m\n\u001b[0m",
      "\u001b[0;31mTypeError\u001b[0m: must be str, not int"
     ],
     "output_type": "error"
    }
   ],
   "source": [
    "\"3d printer is \" + 199 + \" dollars\" # String can only concatenate with strings"
   ]
  },
  {
   "cell_type": "code",
   "execution_count": null,
   "metadata": {
    "collapsed": true
   },
   "outputs": [],
   "source": [
    "\"3d printer is \" + \"199\" + \" dollars\""
   ]
  },
  {
   "cell_type": "code",
   "execution_count": 26,
   "metadata": {},
   "outputs": [
    {
     "data": {
      "text/plain": [
       "'3d printer is 199 dollars'"
      ]
     },
     "execution_count": 26,
     "metadata": {},
     "output_type": "execute_result"
    }
   ],
   "source": [
    "\"3d printer is {} dollars\".format(199)"
   ]
  },
  {
   "cell_type": "code",
   "execution_count": 32,
   "metadata": {},
   "outputs": [
    {
     "data": {
      "text/plain": [
       "'Tesla is 500000000 dollars in Taiwan,Taiwan is the most expensive'"
      ]
     },
     "execution_count": 32,
     "metadata": {},
     "output_type": "execute_result"
    }
   ],
   "source": [
    "# Code can be broken into multiple lines with \\\n",
    "\"{item} is {price} dollars in {country},\\\n",
    "{country} is the most expensive\"\\\n",
    ".format(item=\"Tesla\",\n",
    "        country=\"Taiwan\",\n",
    "        price=500000000)"
   ]
  },
  {
   "cell_type": "code",
   "execution_count": 27,
   "metadata": {},
   "outputs": [
    {
     "data": {
      "text/plain": [
       "'3d printer is 199 dollars'"
      ]
     },
     "execution_count": 27,
     "metadata": {},
     "output_type": "execute_result"
    }
   ],
   "source": [
    "\"3d printer is %s dollars\"%199"
   ]
  },
  {
   "cell_type": "code",
   "execution_count": 33,
   "metadata": {},
   "outputs": [
    {
     "name": "stdout",
     "output_type": "stream",
     "text": [
      "[DEBUG] my_buggy_var is 123\n"
     ]
    }
   ],
   "source": [
    "# use case\n",
    "# blah blah code\n",
    "my_buggy_var = 123\n",
    "print(\"[DEBUG] my_buggy_var is %s\"%my_buggy_var)\n",
    "# my code continues...."
   ]
  },
  {
   "cell_type": "markdown",
   "metadata": {},
   "source": [
    "## List"
   ]
  },
  {
   "cell_type": "code",
   "execution_count": 35,
   "metadata": {
    "collapsed": true
   },
   "outputs": [],
   "source": [
    "li = []"
   ]
  },
  {
   "cell_type": "code",
   "execution_count": 36,
   "metadata": {},
   "outputs": [
    {
     "data": {
      "text/plain": [
       "[]"
      ]
     },
     "execution_count": 36,
     "metadata": {},
     "output_type": "execute_result"
    }
   ],
   "source": [
    "li"
   ]
  },
  {
   "cell_type": "code",
   "execution_count": 38,
   "metadata": {},
   "outputs": [],
   "source": [
    "# insert in to list\n",
    "li.append(\"3d printer\")"
   ]
  },
  {
   "cell_type": "code",
   "execution_count": 39,
   "metadata": {},
   "outputs": [
    {
     "data": {
      "text/plain": [
       "['3d printer']"
      ]
     },
     "execution_count": 39,
     "metadata": {},
     "output_type": "execute_result"
    }
   ],
   "source": [
    "li"
   ]
  },
  {
   "cell_type": "code",
   "execution_count": 40,
   "metadata": {
    "collapsed": true
   },
   "outputs": [],
   "source": [
    "li.append(\"cnc machine\")"
   ]
  },
  {
   "cell_type": "code",
   "execution_count": 41,
   "metadata": {},
   "outputs": [
    {
     "data": {
      "text/plain": [
       "['3d printer', 'cnc machine']"
      ]
     },
     "execution_count": 41,
     "metadata": {},
     "output_type": "execute_result"
    }
   ],
   "source": [
    "li"
   ]
  },
  {
   "cell_type": "code",
   "execution_count": 42,
   "metadata": {},
   "outputs": [
    {
     "data": {
      "text/plain": [
       "'cnc machine'"
      ]
     },
     "execution_count": 42,
     "metadata": {},
     "output_type": "execute_result"
    }
   ],
   "source": [
    "li.pop()"
   ]
  },
  {
   "cell_type": "code",
   "execution_count": 43,
   "metadata": {},
   "outputs": [
    {
     "data": {
      "text/plain": [
       "['3d printer']"
      ]
     },
     "execution_count": 43,
     "metadata": {},
     "output_type": "execute_result"
    }
   ],
   "source": [
    "li"
   ]
  },
  {
   "cell_type": "code",
   "execution_count": 44,
   "metadata": {},
   "outputs": [
    {
     "data": {
      "text/plain": [
       "'3d printer'"
      ]
     },
     "execution_count": 44,
     "metadata": {},
     "output_type": "execute_result"
    }
   ],
   "source": [
    "li[0]"
   ]
  },
  {
   "cell_type": "code",
   "execution_count": 45,
   "metadata": {
    "collapsed": true
   },
   "outputs": [],
   "source": [
    "li.append(\"python\")"
   ]
  },
  {
   "cell_type": "code",
   "execution_count": 47,
   "metadata": {},
   "outputs": [],
   "source": [
    "li.append(\"ruby\")"
   ]
  },
  {
   "cell_type": "code",
   "execution_count": 48,
   "metadata": {},
   "outputs": [
    {
     "data": {
      "text/plain": [
       "['3d printer', 'python', 'ruby']"
      ]
     },
     "execution_count": 48,
     "metadata": {},
     "output_type": "execute_result"
    }
   ],
   "source": [
    "li"
   ]
  },
  {
   "cell_type": "code",
   "execution_count": 50,
   "metadata": {},
   "outputs": [
    {
     "data": {
      "text/plain": [
       "['python', 'ruby']"
      ]
     },
     "execution_count": 50,
     "metadata": {},
     "output_type": "execute_result"
    }
   ],
   "source": [
    "li[1:]"
   ]
  },
  {
   "cell_type": "code",
   "execution_count": 52,
   "metadata": {},
   "outputs": [
    {
     "data": {
      "text/plain": [
       "['3d printer', 'python']"
      ]
     },
     "execution_count": 52,
     "metadata": {},
     "output_type": "execute_result"
    }
   ],
   "source": [
    "li[:2]"
   ]
  },
  {
   "cell_type": "code",
   "execution_count": 53,
   "metadata": {},
   "outputs": [
    {
     "data": {
      "text/plain": [
       "['3d printer', 'ruby']"
      ]
     },
     "execution_count": 53,
     "metadata": {},
     "output_type": "execute_result"
    }
   ],
   "source": [
    "li[::2]"
   ]
  },
  {
   "cell_type": "code",
   "execution_count": 54,
   "metadata": {},
   "outputs": [
    {
     "data": {
      "text/plain": [
       "['ruby', 'python', '3d printer']"
      ]
     },
     "execution_count": 54,
     "metadata": {},
     "output_type": "execute_result"
    }
   ],
   "source": [
    "li[::-1]"
   ]
  },
  {
   "cell_type": "code",
   "execution_count": 55,
   "metadata": {
    "collapsed": true
   },
   "outputs": [],
   "source": [
    "del li[1]"
   ]
  },
  {
   "cell_type": "code",
   "execution_count": 56,
   "metadata": {},
   "outputs": [
    {
     "data": {
      "text/plain": [
       "['3d printer', 'ruby']"
      ]
     },
     "execution_count": 56,
     "metadata": {},
     "output_type": "execute_result"
    }
   ],
   "source": [
    "li"
   ]
  },
  {
   "cell_type": "code",
   "execution_count": 57,
   "metadata": {
    "collapsed": true
   },
   "outputs": [],
   "source": [
    "li.insert(1, \"python\")"
   ]
  },
  {
   "cell_type": "code",
   "execution_count": 58,
   "metadata": {},
   "outputs": [
    {
     "data": {
      "text/plain": [
       "['3d printer', 'python', 'ruby']"
      ]
     },
     "execution_count": 58,
     "metadata": {},
     "output_type": "execute_result"
    }
   ],
   "source": [
    "li"
   ]
  },
  {
   "cell_type": "code",
   "execution_count": 59,
   "metadata": {},
   "outputs": [
    {
     "data": {
      "text/plain": [
       "['3d printer', 'cnc machine']"
      ]
     },
     "execution_count": 59,
     "metadata": {},
     "output_type": "execute_result"
    }
   ],
   "source": [
    "[\"3d printer\"] + [\"cnc machine\"]"
   ]
  },
  {
   "cell_type": "code",
   "execution_count": 60,
   "metadata": {},
   "outputs": [
    {
     "data": {
      "text/plain": [
       "['3d printer', 'python', 'ruby']"
      ]
     },
     "execution_count": 60,
     "metadata": {},
     "output_type": "execute_result"
    }
   ],
   "source": [
    "li"
   ]
  },
  {
   "cell_type": "code",
   "execution_count": 63,
   "metadata": {},
   "outputs": [
    {
     "data": {
      "text/plain": [
       "True"
      ]
     },
     "execution_count": 63,
     "metadata": {},
     "output_type": "execute_result"
    }
   ],
   "source": [
    "\"3d printer\" in li"
   ]
  },
  {
   "cell_type": "code",
   "execution_count": 64,
   "metadata": {},
   "outputs": [
    {
     "name": "stdout",
     "output_type": "stream",
     "text": [
      "I have a 3d printer\n"
     ]
    }
   ],
   "source": [
    "if \"3d printer\" in li:\n",
    "    print(\"I have a 3d printer\")"
   ]
  },
  {
   "cell_type": "markdown",
   "metadata": {},
   "source": [
    "## Dictionary"
   ]
  },
  {
   "cell_type": "code",
   "execution_count": 78,
   "metadata": {
    "collapsed": true
   },
   "outputs": [],
   "source": [
    "mydict = {}"
   ]
  },
  {
   "cell_type": "code",
   "execution_count": 79,
   "metadata": {},
   "outputs": [
    {
     "data": {
      "text/plain": [
       "dict"
      ]
     },
     "execution_count": 79,
     "metadata": {},
     "output_type": "execute_result"
    }
   ],
   "source": [
    "type(mydict)"
   ]
  },
  {
   "cell_type": "code",
   "execution_count": 80,
   "metadata": {},
   "outputs": [
    {
     "data": {
      "text/plain": [
       "{}"
      ]
     },
     "execution_count": 80,
     "metadata": {},
     "output_type": "execute_result"
    }
   ],
   "source": [
    "mydict"
   ]
  },
  {
   "cell_type": "code",
   "execution_count": 81,
   "metadata": {
    "collapsed": true
   },
   "outputs": [],
   "source": [
    "mydict['name'] = \"Ian\""
   ]
  },
  {
   "cell_type": "code",
   "execution_count": 82,
   "metadata": {},
   "outputs": [
    {
     "data": {
      "text/plain": [
       "{'name': 'Ian'}"
      ]
     },
     "execution_count": 82,
     "metadata": {},
     "output_type": "execute_result"
    }
   ],
   "source": [
    "mydict"
   ]
  },
  {
   "cell_type": "code",
   "execution_count": 112,
   "metadata": {
    "collapsed": true
   },
   "outputs": [],
   "source": [
    "printer = {\n",
    "    \"name\": \"Prusa i3 mk2\",\n",
    "    \"print speed\": 100,\n",
    "    \"country\": \"USA\",\n",
    "    \"features\": [\"laser cutting\", \"3d printing\", \"cnc milling\"],\n",
    "    \"price\": 300\n",
    "}"
   ]
  },
  {
   "cell_type": "code",
   "execution_count": 84,
   "metadata": {},
   "outputs": [
    {
     "data": {
      "text/plain": [
       "{'country': 'USA',\n",
       " 'features': ['laser cutting', '3d printing', 'cnc milling'],\n",
       " 'name': 'Prusa i3 mk2',\n",
       " 'price': 300,\n",
       " 'print speed': 100}"
      ]
     },
     "execution_count": 84,
     "metadata": {},
     "output_type": "execute_result"
    }
   ],
   "source": [
    "printer"
   ]
  },
  {
   "cell_type": "code",
   "execution_count": 85,
   "metadata": {},
   "outputs": [
    {
     "data": {
      "text/plain": [
       "'Prusa i3 mk2'"
      ]
     },
     "execution_count": 85,
     "metadata": {},
     "output_type": "execute_result"
    }
   ],
   "source": [
    "# lookup\n",
    "printer['name']"
   ]
  },
  {
   "cell_type": "code",
   "execution_count": 86,
   "metadata": {},
   "outputs": [
    {
     "data": {
      "text/plain": [
       "'USA'"
      ]
     },
     "execution_count": 86,
     "metadata": {},
     "output_type": "execute_result"
    }
   ],
   "source": [
    "# lookup\n",
    "printer['country']"
   ]
  },
  {
   "cell_type": "code",
   "execution_count": 88,
   "metadata": {
    "collapsed": true
   },
   "outputs": [],
   "source": [
    "# create\n",
    "printer['dimensions'] = [220, 220, 240]"
   ]
  },
  {
   "cell_type": "code",
   "execution_count": 89,
   "metadata": {},
   "outputs": [
    {
     "data": {
      "text/plain": [
       "{'country': 'USA',\n",
       " 'dimensions': [220, 220, 240],\n",
       " 'features': ['laser cutting', '3d printing', 'cnc milling'],\n",
       " 'name': 'Prusa i3 mk2',\n",
       " 'price': 300,\n",
       " 'print speed': 100}"
      ]
     },
     "execution_count": 89,
     "metadata": {},
     "output_type": "execute_result"
    }
   ],
   "source": [
    "printer"
   ]
  },
  {
   "cell_type": "code",
   "execution_count": 90,
   "metadata": {
    "collapsed": true
   },
   "outputs": [],
   "source": [
    "# update\n",
    "printer['country'] = \"Taiwan\""
   ]
  },
  {
   "cell_type": "code",
   "execution_count": 91,
   "metadata": {},
   "outputs": [
    {
     "data": {
      "text/plain": [
       "{'country': 'Taiwan',\n",
       " 'dimensions': [220, 220, 240],\n",
       " 'features': ['laser cutting', '3d printing', 'cnc milling'],\n",
       " 'name': 'Prusa i3 mk2',\n",
       " 'price': 300,\n",
       " 'print speed': 100}"
      ]
     },
     "execution_count": 91,
     "metadata": {},
     "output_type": "execute_result"
    }
   ],
   "source": [
    "printer"
   ]
  },
  {
   "cell_type": "code",
   "execution_count": 92,
   "metadata": {
    "collapsed": true
   },
   "outputs": [],
   "source": [
    "# delete\n",
    "del printer['price']"
   ]
  },
  {
   "cell_type": "code",
   "execution_count": 93,
   "metadata": {},
   "outputs": [
    {
     "data": {
      "text/plain": [
       "{'country': 'Taiwan',\n",
       " 'dimensions': [220, 220, 240],\n",
       " 'features': ['laser cutting', '3d printing', 'cnc milling'],\n",
       " 'name': 'Prusa i3 mk2',\n",
       " 'print speed': 100}"
      ]
     },
     "execution_count": 93,
     "metadata": {},
     "output_type": "execute_result"
    }
   ],
   "source": [
    "printer"
   ]
  },
  {
   "cell_type": "code",
   "execution_count": 94,
   "metadata": {},
   "outputs": [
    {
     "data": {
      "text/plain": [
       "True"
      ]
     },
     "execution_count": 94,
     "metadata": {},
     "output_type": "execute_result"
    }
   ],
   "source": [
    "# look up keys in dict\n",
    "\"name\" in printer"
   ]
  },
  {
   "cell_type": "code",
   "execution_count": 96,
   "metadata": {},
   "outputs": [
    {
     "data": {
      "text/plain": [
       "False"
      ]
     },
     "execution_count": 96,
     "metadata": {},
     "output_type": "execute_result"
    }
   ],
   "source": [
    "# cannot lookup values\n",
    "'Prusa i3 mk2' in printer"
   ]
  },
  {
   "cell_type": "code",
   "execution_count": 98,
   "metadata": {},
   "outputs": [
    {
     "data": {
      "text/plain": [
       "'Taiwan'"
      ]
     },
     "execution_count": 98,
     "metadata": {},
     "output_type": "execute_result"
    }
   ],
   "source": [
    "# Dealing with missing keys\n",
    "printer['country']"
   ]
  },
  {
   "cell_type": "code",
   "execution_count": 113,
   "metadata": {
    "collapsed": true
   },
   "outputs": [],
   "source": [
    "printer2 = {'dimensions': [220, 220, 240],\n",
    " 'features': ['laser cutting', '3d printing', 'cnc milling'],\n",
    " 'name': 'Prusa i3 mk2',\n",
    " 'print speed': 100}"
   ]
  },
  {
   "cell_type": "code",
   "execution_count": 114,
   "metadata": {},
   "outputs": [
    {
     "data": {
      "text/plain": [
       "{'dimensions': [220, 220, 240],\n",
       " 'features': ['laser cutting', '3d printing', 'cnc milling'],\n",
       " 'name': 'Prusa i3 mk2',\n",
       " 'print speed': 100}"
      ]
     },
     "execution_count": 114,
     "metadata": {},
     "output_type": "execute_result"
    }
   ],
   "source": [
    "printer2"
   ]
  },
  {
   "cell_type": "code",
   "execution_count": 116,
   "metadata": {},
   "outputs": [],
   "source": [
    "del printer2['features']"
   ]
  },
  {
   "cell_type": "code",
   "execution_count": 117,
   "metadata": {},
   "outputs": [
    {
     "data": {
      "text/plain": [
       "{'dimensions': [220, 220, 240], 'name': 'Prusa i3 mk2', 'print speed': 100}"
      ]
     },
     "execution_count": 117,
     "metadata": {},
     "output_type": "execute_result"
    }
   ],
   "source": [
    "printer2"
   ]
  },
  {
   "cell_type": "code",
   "execution_count": 118,
   "metadata": {},
   "outputs": [
    {
     "ename": "KeyError",
     "evalue": "'features'",
     "traceback": [
      "\u001b[0;31m---------------------------------------------------------------------------\u001b[0m",
      "\u001b[0;31mKeyError\u001b[0m                                  Traceback (most recent call last)",
      "\u001b[0;32m<ipython-input-118-1d956aef364a>\u001b[0m in \u001b[0;36m<module>\u001b[0;34m()\u001b[0m\n\u001b[0;32m----> 1\u001b[0;31m \u001b[0mprinter2\u001b[0m\u001b[0;34m[\u001b[0m\u001b[0;34m'features'\u001b[0m\u001b[0;34m]\u001b[0m\u001b[0;34m\u001b[0m\u001b[0m\n\u001b[0m",
      "\u001b[0;31mKeyError\u001b[0m: 'features'"
     ],
     "output_type": "error"
    }
   ],
   "source": [
    "printer2['features']"
   ]
  },
  {
   "cell_type": "code",
   "execution_count": 119,
   "metadata": {},
   "outputs": [
    {
     "data": {
      "text/plain": [
       "['laser cutting', '3d printing', 'cnc milling']"
      ]
     },
     "execution_count": 119,
     "metadata": {},
     "output_type": "execute_result"
    }
   ],
   "source": [
    "# Graceful dictionary indexing\n",
    "printer.get(\"features\")"
   ]
  },
  {
   "cell_type": "code",
   "execution_count": 121,
   "metadata": {},
   "outputs": [],
   "source": [
    "printer2.get(\"features\") # returns None"
   ]
  },
  {
   "cell_type": "code",
   "execution_count": 123,
   "metadata": {},
   "outputs": [
    {
     "data": {
      "text/plain": [
       "'N/A'"
      ]
     },
     "execution_count": 123,
     "metadata": {},
     "output_type": "execute_result"
    }
   ],
   "source": [
    "printer2.get(\"features\", \"N/A\") # returns default value"
   ]
  },
  {
   "cell_type": "markdown",
   "metadata": {},
   "source": [
    "## Tuple"
   ]
  },
  {
   "cell_type": "code",
   "execution_count": 161,
   "metadata": {},
   "outputs": [
    {
     "data": {
      "text/plain": [
       "('Ian', 'Chen')"
      ]
     },
     "execution_count": 161,
     "metadata": {},
     "output_type": "execute_result"
    }
   ],
   "source": [
    "first_last = ('Ian', 'Chen')\n",
    "first_last"
   ]
  },
  {
   "cell_type": "code",
   "execution_count": 162,
   "metadata": {},
   "outputs": [
    {
     "data": {
      "text/plain": [
       "'Ian'"
      ]
     },
     "execution_count": 162,
     "metadata": {},
     "output_type": "execute_result"
    }
   ],
   "source": [
    "first_last[0]"
   ]
  },
  {
   "cell_type": "code",
   "execution_count": 163,
   "metadata": {},
   "outputs": [
    {
     "data": {
      "text/plain": [
       "'Chen'"
      ]
     },
     "execution_count": 163,
     "metadata": {},
     "output_type": "execute_result"
    }
   ],
   "source": [
    "first_last[1]"
   ]
  },
  {
   "cell_type": "code",
   "execution_count": 164,
   "metadata": {},
   "outputs": [
    {
     "ename": "TypeError",
     "evalue": "'tuple' object does not support item assignment",
     "traceback": [
      "\u001b[0;31m---------------------------------------------------------------------------\u001b[0m",
      "\u001b[0;31mTypeError\u001b[0m                                 Traceback (most recent call last)",
      "\u001b[0;32m<ipython-input-164-83026316ff65>\u001b[0m in \u001b[0;36m<module>\u001b[0;34m()\u001b[0m\n\u001b[0;32m----> 1\u001b[0;31m \u001b[0mfirst_last\u001b[0m\u001b[0;34m[\u001b[0m\u001b[0;36m1\u001b[0m\u001b[0;34m]\u001b[0m \u001b[0;34m=\u001b[0m \u001b[0;34m\"Lin\"\u001b[0m\u001b[0;34m\u001b[0m\u001b[0m\n\u001b[0m",
      "\u001b[0;31mTypeError\u001b[0m: 'tuple' object does not support item assignment"
     ],
     "output_type": "error"
    }
   ],
   "source": [
    "first_last[1] = \"Lin\""
   ]
  },
  {
   "cell_type": "markdown",
   "metadata": {},
   "source": [
    "## Set"
   ]
  },
  {
   "cell_type": "code",
   "execution_count": 124,
   "metadata": {
    "collapsed": true
   },
   "outputs": [],
   "source": [
    "myset = set()"
   ]
  },
  {
   "cell_type": "code",
   "execution_count": 125,
   "metadata": {
    "collapsed": true
   },
   "outputs": [],
   "source": [
    "myset.add(5)"
   ]
  },
  {
   "cell_type": "code",
   "execution_count": 126,
   "metadata": {},
   "outputs": [
    {
     "data": {
      "text/plain": [
       "{5}"
      ]
     },
     "execution_count": 126,
     "metadata": {},
     "output_type": "execute_result"
    }
   ],
   "source": [
    "myset"
   ]
  },
  {
   "cell_type": "code",
   "execution_count": 127,
   "metadata": {
    "collapsed": true
   },
   "outputs": [],
   "source": [
    "myset.add(1)"
   ]
  },
  {
   "cell_type": "code",
   "execution_count": 128,
   "metadata": {},
   "outputs": [
    {
     "data": {
      "text/plain": [
       "{1, 5}"
      ]
     },
     "execution_count": 128,
     "metadata": {},
     "output_type": "execute_result"
    }
   ],
   "source": [
    "myset"
   ]
  },
  {
   "cell_type": "code",
   "execution_count": 129,
   "metadata": {
    "collapsed": true
   },
   "outputs": [],
   "source": [
    "myset.add(5)"
   ]
  },
  {
   "cell_type": "code",
   "execution_count": 130,
   "metadata": {},
   "outputs": [
    {
     "data": {
      "text/plain": [
       "{1, 5}"
      ]
     },
     "execution_count": 130,
     "metadata": {},
     "output_type": "execute_result"
    }
   ],
   "source": [
    "myset"
   ]
  },
  {
   "cell_type": "code",
   "execution_count": 131,
   "metadata": {},
   "outputs": [
    {
     "data": {
      "text/plain": [
       "{1, 2}"
      ]
     },
     "execution_count": 131,
     "metadata": {},
     "output_type": "execute_result"
    }
   ],
   "source": [
    "{1,2,3,4} - {3,4,5} # difference"
   ]
  },
  {
   "cell_type": "code",
   "execution_count": 132,
   "metadata": {},
   "outputs": [
    {
     "data": {
      "text/plain": [
       "{1, 2, 5}"
      ]
     },
     "execution_count": 132,
     "metadata": {},
     "output_type": "execute_result"
    }
   ],
   "source": [
    "{1,2,3,4} ^ {3,4,5} # symmetric diff"
   ]
  },
  {
   "cell_type": "code",
   "execution_count": 133,
   "metadata": {},
   "outputs": [
    {
     "data": {
      "text/plain": [
       "{3, 4}"
      ]
     },
     "execution_count": 133,
     "metadata": {},
     "output_type": "execute_result"
    }
   ],
   "source": [
    "{1,2,3,4} & {3,4,5} # intersection"
   ]
  },
  {
   "cell_type": "code",
   "execution_count": 134,
   "metadata": {},
   "outputs": [
    {
     "data": {
      "text/plain": [
       "{1, 2, 3, 4, 5}"
      ]
     },
     "execution_count": 134,
     "metadata": {},
     "output_type": "execute_result"
    }
   ],
   "source": [
    "{1,2,3,4} | {3,4,5} # union"
   ]
  },
  {
   "cell_type": "markdown",
   "metadata": {},
   "source": [
    "## For loops"
   ]
  },
  {
   "cell_type": "code",
   "execution_count": 136,
   "metadata": {},
   "outputs": [
    {
     "name": "stdout",
     "output_type": "stream",
     "text": [
      "It is feature 3d printing\n",
      "It is feature cnc milling\n",
      "It is feature laser cutting\n"
     ]
    }
   ],
   "source": [
    "for feature in [\"3d printing\", \"cnc milling\", \"laser cutting\"]:\n",
    "    print(\"It is feature %s\"%feature)"
   ]
  },
  {
   "cell_type": "code",
   "execution_count": 137,
   "metadata": {},
   "outputs": [
    {
     "name": "stdout",
     "output_type": "stream",
     "text": [
      "0\n",
      "1\n",
      "2\n",
      "3\n"
     ]
    }
   ],
   "source": [
    "for i in range(4):\n",
    "    print(i)"
   ]
  },
  {
   "cell_type": "code",
   "execution_count": 138,
   "metadata": {},
   "outputs": [
    {
     "name": "stdout",
     "output_type": "stream",
     "text": [
      "0\n",
      "1\n",
      "2\n",
      "3\n"
     ]
    }
   ],
   "source": [
    "for i in range(0,4):\n",
    "    print(i)"
   ]
  },
  {
   "cell_type": "code",
   "execution_count": 139,
   "metadata": {},
   "outputs": [
    {
     "name": "stdout",
     "output_type": "stream",
     "text": [
      "1\n",
      "2\n",
      "3\n"
     ]
    }
   ],
   "source": [
    "for i in range(1,4):\n",
    "    print(i)"
   ]
  },
  {
   "cell_type": "code",
   "execution_count": 144,
   "metadata": {},
   "outputs": [
    {
     "data": {
      "text/plain": [
       "range(0, 4)"
      ]
     },
     "execution_count": 144,
     "metadata": {},
     "output_type": "execute_result"
    }
   ],
   "source": [
    "range(4)"
   ]
  },
  {
   "cell_type": "code",
   "execution_count": 142,
   "metadata": {},
   "outputs": [
    {
     "data": {
      "text/plain": [
       "range"
      ]
     },
     "execution_count": 142,
     "metadata": {},
     "output_type": "execute_result"
    }
   ],
   "source": [
    "type(range(4))"
   ]
  },
  {
   "cell_type": "code",
   "execution_count": 146,
   "metadata": {},
   "outputs": [
    {
     "name": "stdout",
     "output_type": "stream",
     "text": [
      "0\n",
      "1\n",
      "2\n",
      "3\n"
     ]
    }
   ],
   "source": [
    "x = 0\n",
    "while x < 4:\n",
    "    print(x)\n",
    "    x += 1 # x = x + 1"
   ]
  },
  {
   "cell_type": "code",
   "execution_count": 147,
   "metadata": {},
   "outputs": [
    {
     "name": "stdout",
     "output_type": "stream",
     "text": [
      "0\n",
      "1\n",
      "2\n",
      "3\n"
     ]
    }
   ],
   "source": [
    "x = 0\n",
    "while True:\n",
    "    if x > 3:\n",
    "        break\n",
    "    print(x)\n",
    "    x += 1"
   ]
  },
  {
   "cell_type": "code",
   "execution_count": 152,
   "metadata": {},
   "outputs": [
    {
     "name": "stdout",
     "output_type": "stream",
     "text": [
      "crawling website\n"
     ]
    }
   ],
   "source": [
    "# Simple retry mechanism\n",
    "retry = 0\n",
    "while retry < 4:\n",
    "    print(\"crawling website\")\n",
    "    is_success = 1 # Successfully get a web page\n",
    "    if is_success:\n",
    "        break\n",
    "    else:\n",
    "        retry += 1"
   ]
  },
  {
   "cell_type": "code",
   "execution_count": 166,
   "metadata": {},
   "outputs": [],
   "source": [
    "mydict = {(\"Ian\", \"Chen\"): 1,\n",
    "          ('David', 'Chiu'): '2'}"
   ]
  },
  {
   "cell_type": "code",
   "execution_count": 167,
   "metadata": {},
   "outputs": [
    {
     "data": {
      "text/plain": [
       "1"
      ]
     },
     "execution_count": 167,
     "metadata": {},
     "output_type": "execute_result"
    }
   ],
   "source": [
    "mydict[('Ian', \"Chen\")]"
   ]
  },
  {
   "cell_type": "code",
   "execution_count": 168,
   "metadata": {},
   "outputs": [
    {
     "data": {
      "text/plain": [
       "'2'"
      ]
     },
     "execution_count": 168,
     "metadata": {},
     "output_type": "execute_result"
    }
   ],
   "source": [
    "mydict[('David','Chiu')]"
   ]
  },
  {
   "cell_type": "markdown",
   "metadata": {},
   "source": [
    "## String...advnaced"
   ]
  },
  {
   "cell_type": "code",
   "execution_count": 169,
   "metadata": {},
   "outputs": [
    {
     "data": {
      "text/plain": [
       "'my name is Ian'"
      ]
     },
     "execution_count": 169,
     "metadata": {},
     "output_type": "execute_result"
    }
   ],
   "source": [
    "\"my name is Ian\""
   ]
  },
  {
   "cell_type": "code",
   "execution_count": 170,
   "metadata": {},
   "outputs": [
    {
     "data": {
      "text/plain": [
       "['my', 'name', 'is', 'Ian']"
      ]
     },
     "execution_count": 170,
     "metadata": {},
     "output_type": "execute_result"
    }
   ],
   "source": [
    "\"my name is Ian\".split()"
   ]
  },
  {
   "cell_type": "code",
   "execution_count": 172,
   "metadata": {},
   "outputs": [
    {
     "data": {
      "text/plain": [
       "'is'"
      ]
     },
     "execution_count": 172,
     "metadata": {},
     "output_type": "execute_result"
    }
   ],
   "source": [
    "\"my name is Ian\".split()[2]"
   ]
  },
  {
   "cell_type": "code",
   "execution_count": 173,
   "metadata": {},
   "outputs": [
    {
     "name": "stdout",
     "output_type": "stream",
     "text": [
      "my\n",
      "name\n",
      "is\n",
      "Ian\n"
     ]
    }
   ],
   "source": [
    "for word in \"my name is Ian\".split():\n",
    "    print(word)"
   ]
  },
  {
   "cell_type": "code",
   "execution_count": 171,
   "metadata": {},
   "outputs": [
    {
     "data": {
      "text/plain": [
       "['123', 'Ian Chen']"
      ]
     },
     "execution_count": 171,
     "metadata": {},
     "output_type": "execute_result"
    }
   ],
   "source": [
    "\"123,Ian Chen\".split(\",\")"
   ]
  },
  {
   "cell_type": "code",
   "execution_count": 174,
   "metadata": {},
   "outputs": [
    {
     "data": {
      "text/plain": [
       "[123, 'David Chiu', 'LargitData']"
      ]
     },
     "execution_count": 174,
     "metadata": {},
     "output_type": "execute_result"
    }
   ],
   "source": [
    "[123,\"David Chiu\", \"LargitData\"]"
   ]
  },
  {
   "cell_type": "code",
   "execution_count": 178,
   "metadata": {},
   "outputs": [
    {
     "data": {
      "text/plain": [
       "'123,David Chiu,LargitData'"
      ]
     },
     "execution_count": 178,
     "metadata": {},
     "output_type": "execute_result"
    }
   ],
   "source": [
    "\",\".join([\"123\",\"David Chiu\", \"LargitData\"])"
   ]
  },
  {
   "cell_type": "code",
   "execution_count": 179,
   "metadata": {},
   "outputs": [
    {
     "data": {
      "text/plain": [
       "'harry potter'"
      ]
     },
     "execution_count": 179,
     "metadata": {},
     "output_type": "execute_result"
    }
   ],
   "source": [
    "\"Harry Potter\".lower()"
   ]
  },
  {
   "cell_type": "code",
   "execution_count": 180,
   "metadata": {},
   "outputs": [
    {
     "data": {
      "text/plain": [
       "'NICE'"
      ]
     },
     "execution_count": 180,
     "metadata": {},
     "output_type": "execute_result"
    }
   ],
   "source": [
    "\"nice\".upper()"
   ]
  },
  {
   "cell_type": "code",
   "execution_count": 181,
   "metadata": {},
   "outputs": [
    {
     "data": {
      "text/plain": [
       "'Harry Potter'"
      ]
     },
     "execution_count": 181,
     "metadata": {},
     "output_type": "execute_result"
    }
   ],
   "source": [
    "\"harry potter\".title()"
   ]
  },
  {
   "cell_type": "code",
   "execution_count": 186,
   "metadata": {},
   "outputs": [
    {
     "data": {
      "text/plain": [
       "'\\n\\n\\nthis is my awesome multiline string\\n\\n\\n'"
      ]
     },
     "execution_count": 186,
     "metadata": {},
     "output_type": "execute_result"
    }
   ],
   "source": [
    "\"\"\"\n",
    "\n",
    "\n",
    "this is my awesome multiline string\n",
    "\n",
    "\n",
    "\"\"\""
   ]
  },
  {
   "cell_type": "code",
   "execution_count": 190,
   "metadata": {},
   "outputs": [
    {
     "data": {
      "text/plain": [
       "'this is my awesome multiline string'"
      ]
     },
     "execution_count": 190,
     "metadata": {},
     "output_type": "execute_result"
    }
   ],
   "source": [
    "\"\"\"\n",
    "\n",
    "\n",
    "this is my awesome multiline string\n",
    "\n",
    "\n",
    "\"\"\".strip()"
   ]
  },
  {
   "cell_type": "code",
   "execution_count": 191,
   "metadata": {},
   "outputs": [
    {
     "data": {
      "text/plain": [
       "'USA is good'"
      ]
     },
     "execution_count": 191,
     "metadata": {},
     "output_type": "execute_result"
    }
   ],
   "source": [
    "\"Japan is good\".replace(\"Japan\", \"USA\")"
   ]
  },
  {
   "cell_type": "code",
   "execution_count": 194,
   "metadata": {},
   "outputs": [
    {
     "data": {
      "text/plain": [
       "['※ 發信站: 批踢踢實業坊(ptt.cc), ', '223.139.18.149']"
      ]
     },
     "execution_count": 194,
     "metadata": {},
     "output_type": "execute_result"
    }
   ],
   "source": [
    "\"※ 發信站: 批踢踢實業坊(ptt.cc), 來自: 223.139.18.149\".split(\"來自: \")"
   ]
  },
  {
   "cell_type": "code",
   "execution_count": 195,
   "metadata": {},
   "outputs": [
    {
     "data": {
      "text/plain": [
       "'223.139.18.149'"
      ]
     },
     "execution_count": 195,
     "metadata": {},
     "output_type": "execute_result"
    }
   ],
   "source": [
    "\"※ 發信站: 批踢踢實業坊(ptt.cc), 來自: 223.139.18.149\".split(\"來自: \")[1]"
   ]
  },
  {
   "cell_type": "code",
   "execution_count": 196,
   "metadata": {},
   "outputs": [
    {
     "data": {
      "text/plain": [
       "['※ ', '批踢踢實業坊(ptt.cc), 來自: 223.139.18.149']"
      ]
     },
     "execution_count": 196,
     "metadata": {},
     "output_type": "execute_result"
    }
   ],
   "source": [
    "\"※ 發信站: 批踢踢實業坊(ptt.cc), 來自: 223.139.18.149\".split(\"發信站: \")"
   ]
  },
  {
   "cell_type": "code",
   "execution_count": 197,
   "metadata": {},
   "outputs": [
    {
     "data": {
      "text/plain": [
       "'批踢踢實業坊(ptt.cc), 來自: 223.139.18.149'"
      ]
     },
     "execution_count": 197,
     "metadata": {},
     "output_type": "execute_result"
    }
   ],
   "source": [
    "\"※ 發信站: 批踢踢實業坊(ptt.cc), 來自: 223.139.18.149\".split(\"發信站: \")[1]"
   ]
  },
  {
   "cell_type": "code",
   "execution_count": 199,
   "metadata": {},
   "outputs": [
    {
     "data": {
      "text/plain": [
       "'批踢踢實業坊(ptt.cc)'"
      ]
     },
     "execution_count": 199,
     "metadata": {},
     "output_type": "execute_result"
    }
   ],
   "source": [
    "\"※ 發信站: 批踢踢實業坊(ptt.cc), 來自: 223.139.18.149\".split(\"發信站: \")[1].split(\", 來自\")[0]"
   ]
  },
  {
   "cell_type": "code",
   "execution_count": 210,
   "metadata": {
    "collapsed": true
   },
   "outputs": [],
   "source": [
    "f = open('./donald_trump.txt', 'w')"
   ]
  },
  {
   "cell_type": "code",
   "execution_count": 211,
   "metadata": {},
   "outputs": [
    {
     "data": {
      "text/plain": [
       "_io.TextIOWrapper"
      ]
     },
     "execution_count": 211,
     "metadata": {},
     "output_type": "execute_result"
    }
   ],
   "source": [
    "type(f)"
   ]
  },
  {
   "cell_type": "code",
   "execution_count": 212,
   "metadata": {},
   "outputs": [
    {
     "data": {
      "text/plain": [
       "24"
      ]
     },
     "execution_count": 212,
     "metadata": {},
     "output_type": "execute_result"
    }
   ],
   "source": [
    "f.write(\"Make America great again\")"
   ]
  },
  {
   "cell_type": "code",
   "execution_count": 213,
   "metadata": {},
   "outputs": [],
   "source": [
    "f.close()"
   ]
  },
  {
   "cell_type": "code",
   "execution_count": 214,
   "metadata": {},
   "outputs": [
    {
     "name": "stdout",
     "output_type": "stream",
     "text": [
      "donal_trump.txt           donald_trump.txt          python_etl_20170627.ipynb\r\n"
     ]
    }
   ],
   "source": [
    "# ! for shell command\n",
    "!ls"
   ]
  },
  {
   "cell_type": "code",
   "execution_count": 215,
   "metadata": {},
   "outputs": [
    {
     "name": "stdout",
     "output_type": "stream",
     "text": [
      "/Users/ian/Code/teaching/pythonetl/bb102\r\n"
     ]
    }
   ],
   "source": [
    "!pwd"
   ]
  },
  {
   "cell_type": "code",
   "execution_count": 225,
   "metadata": {
    "collapsed": true
   },
   "outputs": [],
   "source": [
    "f2 = open('./donald_trump.txt')"
   ]
  },
  {
   "cell_type": "code",
   "execution_count": 226,
   "metadata": {},
   "outputs": [
    {
     "data": {
      "text/plain": [
       "_io.TextIOWrapper"
      ]
     },
     "execution_count": 226,
     "metadata": {},
     "output_type": "execute_result"
    }
   ],
   "source": [
    "type(f2)"
   ]
  },
  {
   "cell_type": "code",
   "execution_count": 227,
   "metadata": {},
   "outputs": [
    {
     "data": {
      "text/plain": [
       "'Make America great again'"
      ]
     },
     "execution_count": 227,
     "metadata": {},
     "output_type": "execute_result"
    }
   ],
   "source": [
    "quote = f2.read()\n",
    "quote"
   ]
  },
  {
   "cell_type": "code",
   "execution_count": 228,
   "metadata": {},
   "outputs": [
    {
     "data": {
      "text/plain": [
       "''"
      ]
     },
     "execution_count": 228,
     "metadata": {},
     "output_type": "execute_result"
    }
   ],
   "source": [
    "# Read again, hmmm returns nothing\n",
    "quote2 = f2.read()\n",
    "quote2"
   ]
  },
  {
   "cell_type": "code",
   "execution_count": 229,
   "metadata": {},
   "outputs": [
    {
     "data": {
      "text/plain": [
       "0"
      ]
     },
     "execution_count": 229,
     "metadata": {},
     "output_type": "execute_result"
    }
   ],
   "source": [
    "# Seeks the cursor back to start\n",
    "f2.seek(0)"
   ]
  },
  {
   "cell_type": "code",
   "execution_count": 230,
   "metadata": {},
   "outputs": [
    {
     "data": {
      "text/plain": [
       "'Make America great again'"
      ]
     },
     "execution_count": 230,
     "metadata": {},
     "output_type": "execute_result"
    }
   ],
   "source": [
    "quote2 = f2.read()\n",
    "quote2"
   ]
  },
  {
   "cell_type": "code",
   "execution_count": 231,
   "metadata": {
    "collapsed": true
   },
   "outputs": [],
   "source": [
    "f2.close()"
   ]
  },
  {
   "cell_type": "code",
   "execution_count": 232,
   "metadata": {
    "collapsed": true
   },
   "outputs": [],
   "source": [
    "speech = open('./speech.txt')"
   ]
  },
  {
   "cell_type": "code",
   "execution_count": 233,
   "metadata": {},
   "outputs": [
    {
     "data": {
      "text/plain": [
       "\"Chief Justice Roberts, President Carter, President Clinton, President Bush, President Obama, fellow Americans, and people of the world: thank you.\\n\\nWe, the citizens of America, are now joined in a great national effort to rebuild our country and to restore its promise for all of our people.\\n\\nTogether, we will determine the course of America and the world for years to come.\\n\\nWe will face challenges. We will confront hardships. But we will get the job done.\\n\\nEvery four years, we gather on these steps to carry out the orderly and peaceful transfer of power, and we are grateful to President Obama and First Lady Michelle Obama for their gracious aid throughout this transition. They have been magnificent.\\n\\nToday’s ceremony, however, has very special meaning. Because today we are not merely transferring power from one Administration to another, or from one party to another – but we are transferring power from Washington, D.C. and giving it back to you, the American People.\\n\\nFor too long, a small group in our nation’s Capital has reaped the rewards of government while the people have borne the cost.\\n\\nWashington flourished – but the people did not share in its wealth.\\n\\nPoliticians prospered – but the jobs left, and the factories closed.\\n\\nThe establishment protected itself, but not the citizens of our country.\\n\\nTheir victories have not been your victories; their triumphs have not been your triumphs; and while they celebrated in our nation’s Capital, there was little to celebrate for struggling families all across our land.\\n\\nThat all changes – starting right here, and right now, because this moment is your moment: it belongs to you.\\n\\nIt belongs to everyone gathered here today and everyone watching all across America. \\n\\nThis is your day. This is your celebration.\\n\\nAnd this, the United States of America, is your country.\\n\\nWhat truly matters is not which party controls our government, but whether our government is controlled by the people.\\n\\nJanuary 20th 2017, will be remembered as the day the people became the rulers of this nation again. \\n\\nThe forgotten men and women of our country will be forgotten no longer.\\n\\nEveryone is listening to you now.\\n\\nYou came by the tens of millions to become part of a historic movement the likes of which the world has never seen before.\\n\\nAt the center of this movement is a crucial conviction: that a nation exists to serve its citizens.\\n\\nAmericans want great schools for their children, safe neighborhoods for their families, and good jobs for themselves.\\n\\nThese are the just and reasonable demands of a righteous public.\\n\\nBut for too many of our citizens, a different reality exists: Mothers and children trapped in poverty in our inner cities; rusted-out factories scattered like tombstones across the landscape of our nation; an education system, flush with cash, but which leaves our young and beautiful students deprived of knowledge; and the crime and gangs and drugs that have stolen too many lives and robbed our country of so much unrealized potential.\\n\\nThis American carnage stops right here and stops right now.\\n\\nWe are one nation – and their pain is our pain.  Their dreams are our dreams; and their success will be our success.  We share one heart, one home, and one glorious destiny.\\n\\nThe oath of office I take today is an oath of allegiance to all Americans.\\n\\nFor many decades, we’ve enriched foreign industry at the expense of American industry;\\n\\nSubsidized the armies of other countries while allowing for the very sad depletion of our military;\\n\\nWe've defended other nation’s borders while refusing to defend our own;\\n\\nAnd spent trillions of dollars overseas while America's infrastructure has fallen into disrepair and decay.\\n\\nWe’ve made other countries rich while the wealth, strength, and confidence of our country has disappeared over the horizon.\\n\\nOne by one, the factories shuttered and left our shores, with not even a thought about the millions upon millions of American workers left behind.\\n\\nThe wealth of our middle class has been ripped from their homes and then redistributed across the entire world.\\n\\nBut that is the past. And now we are looking only to the future.\\n\\nWe assembled here today are issuing a new decree to be heard in every city, in every foreign capital, and in every hall of power.\\n\\nFrom this day forward, a new vision will govern our land.\\n\\nFrom this moment on, it’s going to be America First.\\n\\nEvery decision on trade, on taxes, on immigration, on foreign affairs, will be made to benefit American workers and American families.\\n\\nWe must protect our borders from the ravages of other countries making our products, stealing our companies, and destroying our jobs.  Protection will lead to great prosperity and strength.\\n\\nI will fight for you with every breath in my body – and I will never, ever let you down.\\n\\nAmerica will start winning again, winning like never before.\\n\\nWe will bring back our jobs. We will bring back our borders.  We will bring back our wealth.  And we will bring back our dreams.\\n\\nWe will build new roads, and highways, and bridges, and airports, and tunnels, and railways all across our wonderful nation.\\n\\nWe will get our people off of welfare and back to work – rebuilding our country with American hands and American labor.\\n\\nWe will follow two simple rules: Buy American and Hire American.\\n\\nWe will seek friendship and goodwill with the nations of the world – but we do so with the understanding that it is the right of all nations to put their own interests first.\\n\\nWe do not seek to impose our way of life on anyone, but rather to let it shine as an example for everyone to follow.\\n\\nWe will reinforce old alliances and form new ones – and unite the civilized world against Radical Islamic Terrorism, which we will eradicate completely from the face of the Earth.\\n\\nAt the bedrock of our politics will be a total allegiance to the United States of America, and through our loyalty to our country, we will rediscover our loyalty to each other.\\n\\nWhen you open your heart to patriotism, there is no room for prejudice.\\n\\nThe Bible tells us, “how good and pleasant it is when God’s people live together in unity.”\\n\\nWe must speak our minds openly, debate our disagreements honestly, but always pursue solidarity.\\n\\nWhen America is united, America is totally unstoppable.\\n\\nThere should be no fear – we are protected, and we will always be protected.\\n\\nWe will be protected by the great men and women of our military and law enforcement and, most importantly, we are protected by God.\\n\\nFinally, we must think big and dream even bigger.\\n\\nIn America, we understand that a nation is only living as long as it is striving.\\n\\nWe will no longer accept politicians who are all talk and no action – constantly complaining but never doing anything about it.\\n\\nThe time for empty talk is over.\\n\\nNow arrives the hour of action.\\n\\nDo not let anyone tell you it cannot be done.  No challenge can match the heart and fight and spirit of America.\\n\\nWe will not fail. Our country will thrive and prosper again.\\n\\nWe stand at the birth of a new millennium, ready to unlock the mysteries of space, to free the Earth from the miseries of disease, and to harness the energies, industries and technologies of tomorrow.\\n\\nA new national pride will stir our souls, lift our sights, and heal our divisions.\\n\\nIt is time to remember that old wisdom our soldiers will never forget: that whether we are black or brown or white, we all bleed the same red blood of patriots, we all enjoy the same glorious freedoms, and we all salute the same great American Flag.\\n\\nAnd whether a child is born in the urban sprawl of Detroit or the windswept plains of Nebraska, they look up at the same night sky, they fill their heart with the same dreams, and they are infused with the breath of life by the same almighty Creator.\\n\\nSo to all Americans, in every city near and far, small and large, from mountain to mountain, and from ocean to ocean, hear these words:\\n\\nYou will never be ignored again.\\n\\nYour voice, your hopes, and your dreams, will define our American destiny. And your courage and goodness and love will forever guide us along the way.\\n\\nTogether, We Will Make America Strong Again.\\n\\nWe Will Make America Wealthy Again.\\n\\nWe Will Make America Proud Again.\\n\\nWe Will Make America Safe Again.\\n\\nAnd, Yes, Together, We Will Make America Great Again. Thank you, God Bless You, And God Bless America.\\n\""
      ]
     },
     "execution_count": 233,
     "metadata": {},
     "output_type": "execute_result"
    }
   ],
   "source": [
    "speech.read()"
   ]
  },
  {
   "cell_type": "code",
   "execution_count": 243,
   "metadata": {},
   "outputs": [
    {
     "data": {
      "text/plain": [
       "0"
      ]
     },
     "execution_count": 243,
     "metadata": {},
     "output_type": "execute_result"
    }
   ],
   "source": [
    "speech.seek(0)"
   ]
  },
  {
   "cell_type": "code",
   "execution_count": 244,
   "metadata": {},
   "outputs": [
    {
     "data": {
      "text/plain": [
       "['Chief Justice Roberts, President Carter, President Clinton, President Bush, President Obama, fellow Americans, and people of the world: thank you.\\n',\n",
       " '\\n',\n",
       " 'We, the citizens of America, are now joined in a great national effort to rebuild our country and to restore its promise for all of our people.\\n',\n",
       " '\\n',\n",
       " 'Together, we will determine the course of America and the world for years to come.\\n',\n",
       " '\\n',\n",
       " 'We will face challenges. We will confront hardships. But we will get the job done.\\n',\n",
       " '\\n',\n",
       " 'Every four years, we gather on these steps to carry out the orderly and peaceful transfer of power, and we are grateful to President Obama and First Lady Michelle Obama for their gracious aid throughout this transition. They have been magnificent.\\n',\n",
       " '\\n',\n",
       " 'Today’s ceremony, however, has very special meaning. Because today we are not merely transferring power from one Administration to another, or from one party to another – but we are transferring power from Washington, D.C. and giving it back to you, the American People.\\n',\n",
       " '\\n',\n",
       " 'For too long, a small group in our nation’s Capital has reaped the rewards of government while the people have borne the cost.\\n',\n",
       " '\\n',\n",
       " 'Washington flourished – but the people did not share in its wealth.\\n',\n",
       " '\\n',\n",
       " 'Politicians prospered – but the jobs left, and the factories closed.\\n',\n",
       " '\\n',\n",
       " 'The establishment protected itself, but not the citizens of our country.\\n',\n",
       " '\\n',\n",
       " 'Their victories have not been your victories; their triumphs have not been your triumphs; and while they celebrated in our nation’s Capital, there was little to celebrate for struggling families all across our land.\\n',\n",
       " '\\n',\n",
       " 'That all changes – starting right here, and right now, because this moment is your moment: it belongs to you.\\n',\n",
       " '\\n',\n",
       " 'It belongs to everyone gathered here today and everyone watching all across America. \\n',\n",
       " '\\n',\n",
       " 'This is your day. This is your celebration.\\n',\n",
       " '\\n',\n",
       " 'And this, the United States of America, is your country.\\n',\n",
       " '\\n',\n",
       " 'What truly matters is not which party controls our government, but whether our government is controlled by the people.\\n',\n",
       " '\\n',\n",
       " 'January 20th 2017, will be remembered as the day the people became the rulers of this nation again. \\n',\n",
       " '\\n',\n",
       " 'The forgotten men and women of our country will be forgotten no longer.\\n',\n",
       " '\\n',\n",
       " 'Everyone is listening to you now.\\n',\n",
       " '\\n',\n",
       " 'You came by the tens of millions to become part of a historic movement the likes of which the world has never seen before.\\n',\n",
       " '\\n',\n",
       " 'At the center of this movement is a crucial conviction: that a nation exists to serve its citizens.\\n',\n",
       " '\\n',\n",
       " 'Americans want great schools for their children, safe neighborhoods for their families, and good jobs for themselves.\\n',\n",
       " '\\n',\n",
       " 'These are the just and reasonable demands of a righteous public.\\n',\n",
       " '\\n',\n",
       " 'But for too many of our citizens, a different reality exists: Mothers and children trapped in poverty in our inner cities; rusted-out factories scattered like tombstones across the landscape of our nation; an education system, flush with cash, but which leaves our young and beautiful students deprived of knowledge; and the crime and gangs and drugs that have stolen too many lives and robbed our country of so much unrealized potential.\\n',\n",
       " '\\n',\n",
       " 'This American carnage stops right here and stops right now.\\n',\n",
       " '\\n',\n",
       " 'We are one nation – and their pain is our pain.  Their dreams are our dreams; and their success will be our success.  We share one heart, one home, and one glorious destiny.\\n',\n",
       " '\\n',\n",
       " 'The oath of office I take today is an oath of allegiance to all Americans.\\n',\n",
       " '\\n',\n",
       " 'For many decades, we’ve enriched foreign industry at the expense of American industry;\\n',\n",
       " '\\n',\n",
       " 'Subsidized the armies of other countries while allowing for the very sad depletion of our military;\\n',\n",
       " '\\n',\n",
       " \"We've defended other nation’s borders while refusing to defend our own;\\n\",\n",
       " '\\n',\n",
       " \"And spent trillions of dollars overseas while America's infrastructure has fallen into disrepair and decay.\\n\",\n",
       " '\\n',\n",
       " 'We’ve made other countries rich while the wealth, strength, and confidence of our country has disappeared over the horizon.\\n',\n",
       " '\\n',\n",
       " 'One by one, the factories shuttered and left our shores, with not even a thought about the millions upon millions of American workers left behind.\\n',\n",
       " '\\n',\n",
       " 'The wealth of our middle class has been ripped from their homes and then redistributed across the entire world.\\n',\n",
       " '\\n',\n",
       " 'But that is the past. And now we are looking only to the future.\\n',\n",
       " '\\n',\n",
       " 'We assembled here today are issuing a new decree to be heard in every city, in every foreign capital, and in every hall of power.\\n',\n",
       " '\\n',\n",
       " 'From this day forward, a new vision will govern our land.\\n',\n",
       " '\\n',\n",
       " 'From this moment on, it’s going to be America First.\\n',\n",
       " '\\n',\n",
       " 'Every decision on trade, on taxes, on immigration, on foreign affairs, will be made to benefit American workers and American families.\\n',\n",
       " '\\n',\n",
       " 'We must protect our borders from the ravages of other countries making our products, stealing our companies, and destroying our jobs.  Protection will lead to great prosperity and strength.\\n',\n",
       " '\\n',\n",
       " 'I will fight for you with every breath in my body – and I will never, ever let you down.\\n',\n",
       " '\\n',\n",
       " 'America will start winning again, winning like never before.\\n',\n",
       " '\\n',\n",
       " 'We will bring back our jobs. We will bring back our borders.  We will bring back our wealth.  And we will bring back our dreams.\\n',\n",
       " '\\n',\n",
       " 'We will build new roads, and highways, and bridges, and airports, and tunnels, and railways all across our wonderful nation.\\n',\n",
       " '\\n',\n",
       " 'We will get our people off of welfare and back to work – rebuilding our country with American hands and American labor.\\n',\n",
       " '\\n',\n",
       " 'We will follow two simple rules: Buy American and Hire American.\\n',\n",
       " '\\n',\n",
       " 'We will seek friendship and goodwill with the nations of the world – but we do so with the understanding that it is the right of all nations to put their own interests first.\\n',\n",
       " '\\n',\n",
       " 'We do not seek to impose our way of life on anyone, but rather to let it shine as an example for everyone to follow.\\n',\n",
       " '\\n',\n",
       " 'We will reinforce old alliances and form new ones – and unite the civilized world against Radical Islamic Terrorism, which we will eradicate completely from the face of the Earth.\\n',\n",
       " '\\n',\n",
       " 'At the bedrock of our politics will be a total allegiance to the United States of America, and through our loyalty to our country, we will rediscover our loyalty to each other.\\n',\n",
       " '\\n',\n",
       " 'When you open your heart to patriotism, there is no room for prejudice.\\n',\n",
       " '\\n',\n",
       " 'The Bible tells us, “how good and pleasant it is when God’s people live together in unity.”\\n',\n",
       " '\\n',\n",
       " 'We must speak our minds openly, debate our disagreements honestly, but always pursue solidarity.\\n',\n",
       " '\\n',\n",
       " 'When America is united, America is totally unstoppable.\\n',\n",
       " '\\n',\n",
       " 'There should be no fear – we are protected, and we will always be protected.\\n',\n",
       " '\\n',\n",
       " 'We will be protected by the great men and women of our military and law enforcement and, most importantly, we are protected by God.\\n',\n",
       " '\\n',\n",
       " 'Finally, we must think big and dream even bigger.\\n',\n",
       " '\\n',\n",
       " 'In America, we understand that a nation is only living as long as it is striving.\\n',\n",
       " '\\n',\n",
       " 'We will no longer accept politicians who are all talk and no action – constantly complaining but never doing anything about it.\\n',\n",
       " '\\n',\n",
       " 'The time for empty talk is over.\\n',\n",
       " '\\n',\n",
       " 'Now arrives the hour of action.\\n',\n",
       " '\\n',\n",
       " 'Do not let anyone tell you it cannot be done.  No challenge can match the heart and fight and spirit of America.\\n',\n",
       " '\\n',\n",
       " 'We will not fail. Our country will thrive and prosper again.\\n',\n",
       " '\\n',\n",
       " 'We stand at the birth of a new millennium, ready to unlock the mysteries of space, to free the Earth from the miseries of disease, and to harness the energies, industries and technologies of tomorrow.\\n',\n",
       " '\\n',\n",
       " 'A new national pride will stir our souls, lift our sights, and heal our divisions.\\n',\n",
       " '\\n',\n",
       " 'It is time to remember that old wisdom our soldiers will never forget: that whether we are black or brown or white, we all bleed the same red blood of patriots, we all enjoy the same glorious freedoms, and we all salute the same great American Flag.\\n',\n",
       " '\\n',\n",
       " 'And whether a child is born in the urban sprawl of Detroit or the windswept plains of Nebraska, they look up at the same night sky, they fill their heart with the same dreams, and they are infused with the breath of life by the same almighty Creator.\\n',\n",
       " '\\n',\n",
       " 'So to all Americans, in every city near and far, small and large, from mountain to mountain, and from ocean to ocean, hear these words:\\n',\n",
       " '\\n',\n",
       " 'You will never be ignored again.\\n',\n",
       " '\\n',\n",
       " 'Your voice, your hopes, and your dreams, will define our American destiny. And your courage and goodness and love will forever guide us along the way.\\n',\n",
       " '\\n',\n",
       " 'Together, We Will Make America Strong Again.\\n',\n",
       " '\\n',\n",
       " 'We Will Make America Wealthy Again.\\n',\n",
       " '\\n',\n",
       " 'We Will Make America Proud Again.\\n',\n",
       " '\\n',\n",
       " 'We Will Make America Safe Again.\\n',\n",
       " '\\n',\n",
       " 'And, Yes, Together, We Will Make America Great Again. Thank you, God Bless You, And God Bless America.\\n']"
      ]
     },
     "execution_count": 244,
     "metadata": {},
     "output_type": "execute_result"
    }
   ],
   "source": [
    "speech.readlines()"
   ]
  },
  {
   "cell_type": "code",
   "execution_count": 240,
   "metadata": {},
   "outputs": [
    {
     "name": "stdout",
     "output_type": "stream",
     "text": [
      "Chief Justice Roberts, President Carter, President Clinton, President Bush, President Obama, fellow Americans, and people of the world: thank you.\n",
      "--------------------------------------------------\n",
      "\n",
      "--------------------------------------------------\n",
      "We, the citizens of America, are now joined in a great national effort to rebuild our country and to restore its promise for all of our people.\n",
      "--------------------------------------------------\n",
      "\n",
      "--------------------------------------------------\n",
      "Together, we will determine the course of America and the world for years to come.\n",
      "--------------------------------------------------\n",
      "\n",
      "--------------------------------------------------\n",
      "We will face challenges. We will confront hardships. But we will get the job done.\n",
      "--------------------------------------------------\n",
      "\n",
      "--------------------------------------------------\n",
      "Every four years, we gather on these steps to carry out the orderly and peaceful transfer of power, and we are grateful to President Obama and First Lady Michelle Obama for their gracious aid throughout this transition. They have been magnificent.\n",
      "--------------------------------------------------\n",
      "\n",
      "--------------------------------------------------\n",
      "Today’s ceremony, however, has very special meaning. Because today we are not merely transferring power from one Administration to another, or from one party to another – but we are transferring power from Washington, D.C. and giving it back to you, the American People.\n",
      "--------------------------------------------------\n",
      "\n",
      "--------------------------------------------------\n",
      "For too long, a small group in our nation’s Capital has reaped the rewards of government while the people have borne the cost.\n",
      "--------------------------------------------------\n",
      "\n",
      "--------------------------------------------------\n",
      "Washington flourished – but the people did not share in its wealth.\n",
      "--------------------------------------------------\n",
      "\n",
      "--------------------------------------------------\n",
      "Politicians prospered – but the jobs left, and the factories closed.\n",
      "--------------------------------------------------\n",
      "\n",
      "--------------------------------------------------\n",
      "The establishment protected itself, but not the citizens of our country.\n",
      "--------------------------------------------------\n",
      "\n",
      "--------------------------------------------------\n",
      "Their victories have not been your victories; their triumphs have not been your triumphs; and while they celebrated in our nation’s Capital, there was little to celebrate for struggling families all across our land.\n",
      "--------------------------------------------------\n",
      "\n",
      "--------------------------------------------------\n",
      "That all changes – starting right here, and right now, because this moment is your moment: it belongs to you.\n",
      "--------------------------------------------------\n",
      "\n",
      "--------------------------------------------------\n",
      "It belongs to everyone gathered here today and everyone watching all across America.\n",
      "--------------------------------------------------\n",
      "\n",
      "--------------------------------------------------\n",
      "This is your day. This is your celebration.\n",
      "--------------------------------------------------\n",
      "\n",
      "--------------------------------------------------\n",
      "And this, the United States of America, is your country.\n",
      "--------------------------------------------------\n",
      "\n",
      "--------------------------------------------------\n",
      "What truly matters is not which party controls our government, but whether our government is controlled by the people.\n",
      "--------------------------------------------------\n",
      "\n",
      "--------------------------------------------------\n",
      "January 20th 2017, will be remembered as the day the people became the rulers of this nation again.\n",
      "--------------------------------------------------\n",
      "\n",
      "--------------------------------------------------\n",
      "The forgotten men and women of our country will be forgotten no longer.\n",
      "--------------------------------------------------\n",
      "\n",
      "--------------------------------------------------\n",
      "Everyone is listening to you now.\n",
      "--------------------------------------------------\n",
      "\n",
      "--------------------------------------------------\n",
      "You came by the tens of millions to become part of a historic movement the likes of which the world has never seen before.\n",
      "--------------------------------------------------\n",
      "\n",
      "--------------------------------------------------\n",
      "At the center of this movement is a crucial conviction: that a nation exists to serve its citizens.\n",
      "--------------------------------------------------\n",
      "\n",
      "--------------------------------------------------\n",
      "Americans want great schools for their children, safe neighborhoods for their families, and good jobs for themselves.\n",
      "--------------------------------------------------\n",
      "\n",
      "--------------------------------------------------\n",
      "These are the just and reasonable demands of a righteous public.\n",
      "--------------------------------------------------\n",
      "\n",
      "--------------------------------------------------\n",
      "But for too many of our citizens, a different reality exists: Mothers and children trapped in poverty in our inner cities; rusted-out factories scattered like tombstones across the landscape of our nation; an education system, flush with cash, but which leaves our young and beautiful students deprived of knowledge; and the crime and gangs and drugs that have stolen too many lives and robbed our country of so much unrealized potential.\n",
      "--------------------------------------------------\n",
      "\n",
      "--------------------------------------------------\n",
      "This American carnage stops right here and stops right now.\n",
      "--------------------------------------------------\n",
      "\n",
      "--------------------------------------------------\n",
      "We are one nation – and their pain is our pain.  Their dreams are our dreams; and their success will be our success.  We share one heart, one home, and one glorious destiny.\n",
      "--------------------------------------------------\n",
      "\n",
      "--------------------------------------------------\n",
      "The oath of office I take today is an oath of allegiance to all Americans.\n",
      "--------------------------------------------------\n",
      "\n",
      "--------------------------------------------------\n",
      "For many decades, we’ve enriched foreign industry at the expense of American industry;\n",
      "--------------------------------------------------\n",
      "\n",
      "--------------------------------------------------\n",
      "Subsidized the armies of other countries while allowing for the very sad depletion of our military;\n",
      "--------------------------------------------------\n",
      "\n",
      "--------------------------------------------------\n",
      "We've defended other nation’s borders while refusing to defend our own;\n",
      "--------------------------------------------------\n",
      "\n",
      "--------------------------------------------------\n",
      "And spent trillions of dollars overseas while America's infrastructure has fallen into disrepair and decay.\n",
      "--------------------------------------------------\n",
      "\n",
      "--------------------------------------------------\n",
      "We’ve made other countries rich while the wealth, strength, and confidence of our country has disappeared over the horizon.\n",
      "--------------------------------------------------\n",
      "\n",
      "--------------------------------------------------\n",
      "One by one, the factories shuttered and left our shores, with not even a thought about the millions upon millions of American workers left behind.\n",
      "--------------------------------------------------\n",
      "\n",
      "--------------------------------------------------\n",
      "The wealth of our middle class has been ripped from their homes and then redistributed across the entire world.\n",
      "--------------------------------------------------\n",
      "\n",
      "--------------------------------------------------\n",
      "But that is the past. And now we are looking only to the future.\n",
      "--------------------------------------------------\n",
      "\n",
      "--------------------------------------------------\n",
      "We assembled here today are issuing a new decree to be heard in every city, in every foreign capital, and in every hall of power.\n",
      "--------------------------------------------------\n",
      "\n",
      "--------------------------------------------------\n",
      "From this day forward, a new vision will govern our land.\n",
      "--------------------------------------------------\n",
      "\n",
      "--------------------------------------------------\n",
      "From this moment on, it’s going to be America First.\n",
      "--------------------------------------------------\n",
      "\n",
      "--------------------------------------------------\n",
      "Every decision on trade, on taxes, on immigration, on foreign affairs, will be made to benefit American workers and American families.\n",
      "--------------------------------------------------\n",
      "\n",
      "--------------------------------------------------\n",
      "We must protect our borders from the ravages of other countries making our products, stealing our companies, and destroying our jobs.  Protection will lead to great prosperity and strength.\n",
      "--------------------------------------------------\n",
      "\n",
      "--------------------------------------------------\n",
      "I will fight for you with every breath in my body – and I will never, ever let you down.\n",
      "--------------------------------------------------\n",
      "\n",
      "--------------------------------------------------\n",
      "America will start winning again, winning like never before.\n",
      "--------------------------------------------------\n",
      "\n",
      "--------------------------------------------------\n",
      "We will bring back our jobs. We will bring back our borders.  We will bring back our wealth.  And we will bring back our dreams.\n",
      "--------------------------------------------------\n",
      "\n",
      "--------------------------------------------------\n",
      "We will build new roads, and highways, and bridges, and airports, and tunnels, and railways all across our wonderful nation.\n",
      "--------------------------------------------------\n",
      "\n",
      "--------------------------------------------------\n",
      "We will get our people off of welfare and back to work – rebuilding our country with American hands and American labor.\n",
      "--------------------------------------------------\n",
      "\n",
      "--------------------------------------------------\n",
      "We will follow two simple rules: Buy American and Hire American.\n",
      "--------------------------------------------------\n",
      "\n",
      "--------------------------------------------------\n",
      "We will seek friendship and goodwill with the nations of the world – but we do so with the understanding that it is the right of all nations to put their own interests first.\n",
      "--------------------------------------------------\n",
      "\n",
      "--------------------------------------------------\n",
      "We do not seek to impose our way of life on anyone, but rather to let it shine as an example for everyone to follow.\n",
      "--------------------------------------------------\n",
      "\n",
      "--------------------------------------------------\n",
      "We will reinforce old alliances and form new ones – and unite the civilized world against Radical Islamic Terrorism, which we will eradicate completely from the face of the Earth.\n",
      "--------------------------------------------------\n",
      "\n",
      "--------------------------------------------------\n",
      "At the bedrock of our politics will be a total allegiance to the United States of America, and through our loyalty to our country, we will rediscover our loyalty to each other.\n",
      "--------------------------------------------------\n",
      "\n",
      "--------------------------------------------------\n",
      "When you open your heart to patriotism, there is no room for prejudice.\n",
      "--------------------------------------------------\n",
      "\n",
      "--------------------------------------------------\n",
      "The Bible tells us, “how good and pleasant it is when God’s people live together in unity.”\n",
      "--------------------------------------------------\n",
      "\n",
      "--------------------------------------------------\n",
      "We must speak our minds openly, debate our disagreements honestly, but always pursue solidarity.\n",
      "--------------------------------------------------\n",
      "\n",
      "--------------------------------------------------\n",
      "When America is united, America is totally unstoppable.\n",
      "--------------------------------------------------\n",
      "\n",
      "--------------------------------------------------\n",
      "There should be no fear – we are protected, and we will always be protected.\n",
      "--------------------------------------------------\n",
      "\n",
      "--------------------------------------------------\n",
      "We will be protected by the great men and women of our military and law enforcement and, most importantly, we are protected by God.\n",
      "--------------------------------------------------\n",
      "\n",
      "--------------------------------------------------\n",
      "Finally, we must think big and dream even bigger.\n",
      "--------------------------------------------------\n",
      "\n",
      "--------------------------------------------------\n",
      "In America, we understand that a nation is only living as long as it is striving.\n",
      "--------------------------------------------------\n",
      "\n",
      "--------------------------------------------------\n",
      "We will no longer accept politicians who are all talk and no action – constantly complaining but never doing anything about it.\n",
      "--------------------------------------------------\n",
      "\n",
      "--------------------------------------------------\n",
      "The time for empty talk is over.\n",
      "--------------------------------------------------\n",
      "\n",
      "--------------------------------------------------\n",
      "Now arrives the hour of action.\n",
      "--------------------------------------------------\n",
      "\n",
      "--------------------------------------------------\n",
      "Do not let anyone tell you it cannot be done.  No challenge can match the heart and fight and spirit of America.\n",
      "--------------------------------------------------\n",
      "\n",
      "--------------------------------------------------\n",
      "We will not fail. Our country will thrive and prosper again.\n",
      "--------------------------------------------------\n",
      "\n",
      "--------------------------------------------------\n",
      "We stand at the birth of a new millennium, ready to unlock the mysteries of space, to free the Earth from the miseries of disease, and to harness the energies, industries and technologies of tomorrow.\n",
      "--------------------------------------------------\n",
      "\n",
      "--------------------------------------------------\n",
      "A new national pride will stir our souls, lift our sights, and heal our divisions.\n",
      "--------------------------------------------------\n",
      "\n",
      "--------------------------------------------------\n",
      "It is time to remember that old wisdom our soldiers will never forget: that whether we are black or brown or white, we all bleed the same red blood of patriots, we all enjoy the same glorious freedoms, and we all salute the same great American Flag.\n",
      "--------------------------------------------------\n",
      "\n",
      "--------------------------------------------------\n",
      "And whether a child is born in the urban sprawl of Detroit or the windswept plains of Nebraska, they look up at the same night sky, they fill their heart with the same dreams, and they are infused with the breath of life by the same almighty Creator.\n",
      "--------------------------------------------------\n",
      "\n",
      "--------------------------------------------------\n",
      "So to all Americans, in every city near and far, small and large, from mountain to mountain, and from ocean to ocean, hear these words:\n",
      "--------------------------------------------------\n",
      "\n",
      "--------------------------------------------------\n",
      "You will never be ignored again.\n",
      "--------------------------------------------------\n",
      "\n",
      "--------------------------------------------------\n",
      "Your voice, your hopes, and your dreams, will define our American destiny. And your courage and goodness and love will forever guide us along the way.\n",
      "--------------------------------------------------\n",
      "\n",
      "--------------------------------------------------\n",
      "Together, We Will Make America Strong Again.\n",
      "--------------------------------------------------\n",
      "\n",
      "--------------------------------------------------\n",
      "We Will Make America Wealthy Again.\n",
      "--------------------------------------------------\n",
      "\n",
      "--------------------------------------------------\n",
      "We Will Make America Proud Again.\n",
      "--------------------------------------------------\n",
      "\n",
      "--------------------------------------------------\n",
      "We Will Make America Safe Again.\n",
      "--------------------------------------------------\n",
      "\n",
      "--------------------------------------------------\n",
      "And, Yes, Together, We Will Make America Great Again. Thank you, God Bless You, And God Bless America.\n",
      "--------------------------------------------------\n"
     ]
    }
   ],
   "source": [
    "for line in speech:\n",
    "    print(line.strip())\n",
    "    print(\"-\" * 50)"
   ]
  },
  {
   "cell_type": "code",
   "execution_count": 245,
   "metadata": {
    "collapsed": true
   },
   "outputs": [],
   "source": [
    "speech.close()"
   ]
  },
  {
   "cell_type": "markdown",
   "metadata": {},
   "source": [
    "## Error handling (Try Except)"
   ]
  },
  {
   "cell_type": "code",
   "execution_count": 247,
   "metadata": {},
   "outputs": [
    {
     "ename": "IndexError",
     "evalue": "hi",
     "traceback": [
      "\u001b[0;31m---------------------------------------------------------------------------\u001b[0m",
      "\u001b[0;31mIndexError\u001b[0m                                Traceback (most recent call last)",
      "\u001b[0;32m<ipython-input-247-1492ff43309c>\u001b[0m in \u001b[0;36m<module>\u001b[0;34m()\u001b[0m\n\u001b[0;32m----> 1\u001b[0;31m \u001b[0;32mraise\u001b[0m \u001b[0mIndexError\u001b[0m\u001b[0;34m(\u001b[0m\u001b[0;34m\"hi\"\u001b[0m\u001b[0;34m)\u001b[0m\u001b[0;34m\u001b[0m\u001b[0m\n\u001b[0m",
      "\u001b[0;31mIndexError\u001b[0m: hi"
     ],
     "output_type": "error"
    }
   ],
   "source": [
    "raise IndexError(\"hi\")"
   ]
  },
  {
   "cell_type": "code",
   "execution_count": 248,
   "metadata": {},
   "outputs": [
    {
     "name": "stdout",
     "output_type": "stream",
     "text": [
      "hi\n"
     ]
    }
   ],
   "source": [
    "try:\n",
    "    raise IndexError(\"hi\")\n",
    "except IndexError as e:\n",
    "    print(e)"
   ]
  },
  {
   "cell_type": "code",
   "execution_count": 249,
   "metadata": {},
   "outputs": [
    {
     "ename": "IndexError",
     "evalue": "list index out of range",
     "traceback": [
      "\u001b[0;31m---------------------------------------------------------------------------\u001b[0m",
      "\u001b[0;31mIndexError\u001b[0m                                Traceback (most recent call last)",
      "\u001b[0;32m<ipython-input-249-3bba4ec57e7c>\u001b[0m in \u001b[0;36m<module>\u001b[0;34m()\u001b[0m\n\u001b[1;32m      1\u001b[0m \u001b[0mll\u001b[0m \u001b[0;34m=\u001b[0m \u001b[0;34m[\u001b[0m\u001b[0;34m]\u001b[0m\u001b[0;34m\u001b[0m\u001b[0m\n\u001b[0;32m----> 2\u001b[0;31m \u001b[0mll\u001b[0m\u001b[0;34m[\u001b[0m\u001b[0;36m1\u001b[0m\u001b[0;34m]\u001b[0m\u001b[0;34m\u001b[0m\u001b[0m\n\u001b[0m",
      "\u001b[0;31mIndexError\u001b[0m: list index out of range"
     ],
     "output_type": "error"
    }
   ],
   "source": [
    "ll = []\n",
    "ll[1]"
   ]
  },
  {
   "cell_type": "code",
   "execution_count": 250,
   "metadata": {},
   "outputs": [
    {
     "name": "stdout",
     "output_type": "stream",
     "text": [
      "Error is list index out of range\n"
     ]
    }
   ],
   "source": [
    "ll = []\n",
    "try:\n",
    "    ll[1]\n",
    "except IndexError as e:\n",
    "    print(\"Error is %s\"%e)"
   ]
  },
  {
   "cell_type": "code",
   "execution_count": 251,
   "metadata": {},
   "outputs": [
    {
     "name": "stdout",
     "output_type": "stream",
     "text": [
      "Error is list index out of range\n"
     ]
    }
   ],
   "source": [
    "ll = []\n",
    "try:\n",
    "    ll[1]\n",
    "except (IndexError, TypeError) as e:\n",
    "    print(\"Error is %s\"%e)"
   ]
  },
  {
   "cell_type": "code",
   "execution_count": 254,
   "metadata": {},
   "outputs": [
    {
     "name": "stdout",
     "output_type": "stream",
     "text": [
      "Error is %s\n"
     ]
    }
   ],
   "source": [
    "ll = []\n",
    "try:\n",
    "    ll[1]\n",
    "except:\n",
    "    print(\"Error is %s\")"
   ]
  },
  {
   "cell_type": "code",
   "execution_count": 255,
   "metadata": {},
   "outputs": [
    {
     "name": "stdout",
     "output_type": "stream",
     "text": [
      "Error is list index out of range\n",
      "execute finally\n"
     ]
    }
   ],
   "source": [
    "ll = []\n",
    "try:\n",
    "    ll[1]\n",
    "except IndexError as e:\n",
    "    print(\"Error is %s\"%e)\n",
    "finally:\n",
    "    print(\"execute finally\")"
   ]
  },
  {
   "cell_type": "code",
   "execution_count": 256,
   "metadata": {},
   "outputs": [
    {
     "name": "stdout",
     "output_type": "stream",
     "text": [
      "execute finally\n"
     ]
    }
   ],
   "source": [
    "ll = [1,2]\n",
    "try:\n",
    "    ll[1]\n",
    "except IndexError as e:\n",
    "    print(\"Error is %s\"%e)\n",
    "finally:\n",
    "    print(\"execute finally\")"
   ]
  },
  {
   "cell_type": "code",
   "execution_count": 257,
   "metadata": {},
   "outputs": [
    {
     "name": "stdout",
     "output_type": "stream",
     "text": [
      "executed successfully, no error\n",
      "execute finally\n"
     ]
    }
   ],
   "source": [
    "ll = [1,2]\n",
    "try:\n",
    "    ll[1]\n",
    "except IndexError as e:\n",
    "    print(\"Error is %s\"%e)\n",
    "else:\n",
    "    print(\"executed successfully, no error\")\n",
    "finally:\n",
    "    print(\"execute finally\")"
   ]
  },
  {
   "cell_type": "code",
   "execution_count": 259,
   "metadata": {},
   "outputs": [
    {
     "name": "stdout",
     "output_type": "stream",
     "text": [
      "Error is list index out of range\n",
      "execute finally\n"
     ]
    }
   ],
   "source": [
    "ll = [1]\n",
    "try:\n",
    "    ll[1]\n",
    "except IndexError as e:\n",
    "    # Execute to handle error\n",
    "    print(\"Error is %s\"%e)\n",
    "else:\n",
    "    # Only execute when no error\n",
    "    print(\"executed successfully, no error\")\n",
    "finally:\n",
    "    # Always execute\n",
    "    print(\"execute finally\")"
   ]
  },
  {
   "cell_type": "code",
   "execution_count": 261,
   "metadata": {},
   "outputs": [
    {
     "ename": "IndexError",
     "evalue": "Error reading file",
     "traceback": [
      "\u001b[0;31m---------------------------------------------------------------------------\u001b[0m",
      "\u001b[0;31mIndexError\u001b[0m                                Traceback (most recent call last)",
      "\u001b[0;32m<ipython-input-261-799cd2ceb657>\u001b[0m in \u001b[0;36m<module>\u001b[0;34m()\u001b[0m\n\u001b[1;32m      2\u001b[0m \u001b[0mf\u001b[0m \u001b[0;34m=\u001b[0m \u001b[0mopen\u001b[0m\u001b[0;34m(\u001b[0m\u001b[0;34m\"./donald_trump.txt\"\u001b[0m\u001b[0;34m)\u001b[0m\u001b[0;34m\u001b[0m\u001b[0m\n\u001b[1;32m      3\u001b[0m \u001b[0mf\u001b[0m\u001b[0;34m.\u001b[0m\u001b[0mread\u001b[0m\u001b[0;34m(\u001b[0m\u001b[0;34m)\u001b[0m\u001b[0;34m\u001b[0m\u001b[0m\n\u001b[0;32m----> 4\u001b[0;31m \u001b[0;32mraise\u001b[0m \u001b[0mIndexError\u001b[0m\u001b[0;34m(\u001b[0m\u001b[0;34m\"Error reading file\"\u001b[0m\u001b[0;34m)\u001b[0m\u001b[0;34m\u001b[0m\u001b[0m\n\u001b[0m\u001b[1;32m      5\u001b[0m \u001b[0;31m# do something\u001b[0m\u001b[0;34m\u001b[0m\u001b[0;34m\u001b[0m\u001b[0m\n\u001b[1;32m      6\u001b[0m \u001b[0mf\u001b[0m\u001b[0;34m.\u001b[0m\u001b[0mclose\u001b[0m\u001b[0;34m(\u001b[0m\u001b[0;34m)\u001b[0m\u001b[0;34m\u001b[0m\u001b[0m\n",
      "\u001b[0;31mIndexError\u001b[0m: Error reading file"
     ],
     "output_type": "error"
    }
   ],
   "source": [
    "# Example\n",
    "f = open(\"./donald_trump.txt\")\n",
    "f.read()\n",
    "raise IndexError(\"Error reading file\")\n",
    "# do something\n",
    "f.close()"
   ]
  },
  {
   "cell_type": "code",
   "execution_count": 262,
   "metadata": {},
   "outputs": [
    {
     "data": {
      "text/plain": [
       "True"
      ]
     },
     "execution_count": 262,
     "metadata": {},
     "output_type": "execute_result"
    }
   ],
   "source": [
    "f.readable()"
   ]
  },
  {
   "cell_type": "code",
   "execution_count": 263,
   "metadata": {
    "collapsed": true
   },
   "outputs": [],
   "source": [
    "f.close()"
   ]
  },
  {
   "cell_type": "code",
   "execution_count": 264,
   "metadata": {},
   "outputs": [
    {
     "ename": "ValueError",
     "evalue": "I/O operation on closed file",
     "traceback": [
      "\u001b[0;31m---------------------------------------------------------------------------\u001b[0m",
      "\u001b[0;31mValueError\u001b[0m                                Traceback (most recent call last)",
      "\u001b[0;32m<ipython-input-264-97a5eee249a2>\u001b[0m in \u001b[0;36m<module>\u001b[0;34m()\u001b[0m\n\u001b[0;32m----> 1\u001b[0;31m \u001b[0mf\u001b[0m\u001b[0;34m.\u001b[0m\u001b[0mreadable\u001b[0m\u001b[0;34m(\u001b[0m\u001b[0;34m)\u001b[0m\u001b[0;34m\u001b[0m\u001b[0m\n\u001b[0m",
      "\u001b[0;31mValueError\u001b[0m: I/O operation on closed file"
     ],
     "output_type": "error"
    }
   ],
   "source": [
    "f.readable()"
   ]
  },
  {
   "cell_type": "code",
   "execution_count": 265,
   "metadata": {},
   "outputs": [
    {
     "name": "stdout",
     "output_type": "stream",
     "text": [
      "Error is Error reading file\n",
      "Cleaning up files....\n"
     ]
    }
   ],
   "source": [
    "try:\n",
    "    f = open(\"./donald_trump.txt\")\n",
    "    f.read()\n",
    "    raise IndexError(\"Error reading file\")\n",
    "except IndexError as e:\n",
    "    # Execute to handle error\n",
    "    print(\"Error is %s\"%e)\n",
    "else:\n",
    "    # Only execute when no error\n",
    "    print(\"executed successfully, no error\")\n",
    "finally:\n",
    "    # Always execute\n",
    "    print(\"Cleaning up files....\")\n",
    "    f.close()"
   ]
  },
  {
   "cell_type": "code",
   "execution_count": 266,
   "metadata": {},
   "outputs": [
    {
     "ename": "ValueError",
     "evalue": "I/O operation on closed file",
     "traceback": [
      "\u001b[0;31m---------------------------------------------------------------------------\u001b[0m",
      "\u001b[0;31mValueError\u001b[0m                                Traceback (most recent call last)",
      "\u001b[0;32m<ipython-input-266-97a5eee249a2>\u001b[0m in \u001b[0;36m<module>\u001b[0;34m()\u001b[0m\n\u001b[0;32m----> 1\u001b[0;31m \u001b[0mf\u001b[0m\u001b[0;34m.\u001b[0m\u001b[0mreadable\u001b[0m\u001b[0;34m(\u001b[0m\u001b[0;34m)\u001b[0m\u001b[0;34m\u001b[0m\u001b[0m\n\u001b[0m",
      "\u001b[0;31mValueError\u001b[0m: I/O operation on closed file"
     ],
     "output_type": "error"
    }
   ],
   "source": [
    "f.readable()"
   ]
  },
  {
   "cell_type": "code",
   "execution_count": 271,
   "metadata": {},
   "outputs": [
    {
     "name": "stdout",
     "output_type": "stream",
     "text": [
      "Make America great again\n",
      "read second time\n",
      "Make America great again\n"
     ]
    }
   ],
   "source": [
    "# Context Manager\n",
    "with open('./donald_trump.txt') as f:\n",
    "    print(f.read())\n",
    "    f.seek(0)\n",
    "    print(\"read second time\")\n",
    "    print(f.read())"
   ]
  },
  {
   "cell_type": "code",
   "execution_count": 270,
   "metadata": {},
   "outputs": [
    {
     "ename": "ValueError",
     "evalue": "I/O operation on closed file",
     "traceback": [
      "\u001b[0;31m---------------------------------------------------------------------------\u001b[0m",
      "\u001b[0;31mValueError\u001b[0m                                Traceback (most recent call last)",
      "\u001b[0;32m<ipython-input-270-97a5eee249a2>\u001b[0m in \u001b[0;36m<module>\u001b[0;34m()\u001b[0m\n\u001b[0;32m----> 1\u001b[0;31m \u001b[0mf\u001b[0m\u001b[0;34m.\u001b[0m\u001b[0mreadable\u001b[0m\u001b[0;34m(\u001b[0m\u001b[0;34m)\u001b[0m\u001b[0;34m\u001b[0m\u001b[0m\n\u001b[0m",
      "\u001b[0;31mValueError\u001b[0m: I/O operation on closed file"
     ],
     "output_type": "error"
    }
   ],
   "source": [
    "f.readable()"
   ]
  },
  {
   "cell_type": "markdown",
   "metadata": {},
   "source": [
    "### Exercise:\n",
    "\n",
    "Donald Trump speech word count"
   ]
  },
  {
   "cell_type": "code",
   "execution_count": 273,
   "metadata": {
    "collapsed": true
   },
   "outputs": [],
   "source": [
    "# with open('./donald_trump.txt') as f:\n",
    "# Output:\n",
    "# [('America', 99), ('great', 80), .....]"
   ]
  },
  {
   "cell_type": "code",
   "execution_count": 288,
   "metadata": {
    "collapsed": true
   },
   "outputs": [],
   "source": [
    "mydict = {\n",
    "    \"chief\": 1,\n",
    "    'justice': 2,\n",
    "    'roberts': 1,\n",
    "}"
   ]
  },
  {
   "cell_type": "code",
   "execution_count": 289,
   "metadata": {},
   "outputs": [
    {
     "name": "stdout",
     "output_type": "stream",
     "text": [
      "chief\n",
      "justice\n",
      "roberts\n"
     ]
    }
   ],
   "source": [
    "for x in mydict:\n",
    "    print(x)"
   ]
  },
  {
   "cell_type": "code",
   "execution_count": 290,
   "metadata": {},
   "outputs": [
    {
     "name": "stdout",
     "output_type": "stream",
     "text": [
      "1\n",
      "2\n",
      "1\n"
     ]
    }
   ],
   "source": [
    "for x in mydict:\n",
    "    print(mydict[x])"
   ]
  },
  {
   "cell_type": "code",
   "execution_count": 297,
   "metadata": {},
   "outputs": [
    {
     "data": {
      "text/plain": [
       "dict_keys(['chief', 'justice', 'roberts'])"
      ]
     },
     "execution_count": 297,
     "metadata": {},
     "output_type": "execute_result"
    }
   ],
   "source": [
    "mydict.keys()"
   ]
  },
  {
   "cell_type": "code",
   "execution_count": 298,
   "metadata": {},
   "outputs": [
    {
     "data": {
      "text/plain": [
       "dict_values([1, 2, 1])"
      ]
     },
     "execution_count": 298,
     "metadata": {},
     "output_type": "execute_result"
    }
   ],
   "source": [
    "mydict.values()"
   ]
  },
  {
   "cell_type": "code",
   "execution_count": 299,
   "metadata": {},
   "outputs": [
    {
     "data": {
      "text/plain": [
       "dict_items([('chief', 1), ('justice', 2), ('roberts', 1)])"
      ]
     },
     "execution_count": 299,
     "metadata": {},
     "output_type": "execute_result"
    }
   ],
   "source": [
    "mydict.items()"
   ]
  },
  {
   "cell_type": "code",
   "execution_count": 309,
   "metadata": {
    "scrolled": true
   },
   "outputs": [
    {
     "name": "stdout",
     "output_type": "stream",
     "text": [
      "[('and', 74), ('the', 70), ('of', 48), ('our', 48), ('we', 46), ('will', 40), ('to', 37), ('is', 21), ('america', 17), ('a', 15)]\n"
     ]
    }
   ],
   "source": [
    "with open('./donald_trump.txt') as f:\n",
    "    speech = f.read().replace(',', \"\").replace(\".\", \"\")\n",
    "    cnt = {}\n",
    "    for word in speech.split():\n",
    "        word = word.lower()\n",
    "        if word in cnt:\n",
    "            cnt[word] += 1\n",
    "        else:\n",
    "            cnt[word] = 1\n",
    "            \n",
    "def custom_sort(entry):\n",
    "    return entry[1]\n",
    "    \n",
    "print(sorted(cnt.items(), key=lambda x: x[1], reverse=True)[:10])\n",
    "#print(sorted(cnt.items(), key=custom_sort, reverse=True))"
   ]
  },
  {
   "cell_type": "code",
   "execution_count": 308,
   "metadata": {},
   "outputs": [
    {
     "data": {
      "text/plain": [
       "[('and', 74),\n",
       " ('the', 70),\n",
       " ('of', 48),\n",
       " ('our', 48),\n",
       " ('we', 46),\n",
       " ('will', 40),\n",
       " ('to', 37),\n",
       " ('is', 21),\n",
       " ('america', 17),\n",
       " ('a', 15)]"
      ]
     },
     "execution_count": 308,
     "metadata": {},
     "output_type": "execute_result"
    }
   ],
   "source": [
    "from collections import Counter\n",
    "\n",
    "with open('./donald_trump.txt') as f:\n",
    "    speech = f.read().replace(',', \"\").replace(\".\", \"\")\n",
    "    cnt = Counter()\n",
    "    for word in speech.split():\n",
    "        word = word.lower()\n",
    "        if word in cnt:\n",
    "            cnt[word] += 1\n",
    "        else:\n",
    "            cnt[word] = 1\n",
    "            \n",
    "cnt.most_common(10)"
   ]
  },
  {
   "cell_type": "markdown",
   "metadata": {},
   "source": [
    "## package import"
   ]
  },
  {
   "cell_type": "code",
   "execution_count": 311,
   "metadata": {
    "collapsed": true
   },
   "outputs": [],
   "source": [
    "import collections"
   ]
  },
  {
   "cell_type": "code",
   "execution_count": 312,
   "metadata": {},
   "outputs": [
    {
     "data": {
      "text/plain": [
       "Counter()"
      ]
     },
     "execution_count": 312,
     "metadata": {},
     "output_type": "execute_result"
    }
   ],
   "source": [
    "collections.Counter()"
   ]
  },
  {
   "cell_type": "code",
   "execution_count": 313,
   "metadata": {
    "collapsed": true
   },
   "outputs": [],
   "source": [
    "from collections import Counter"
   ]
  },
  {
   "cell_type": "code",
   "execution_count": 314,
   "metadata": {},
   "outputs": [
    {
     "data": {
      "text/plain": [
       "Counter()"
      ]
     },
     "execution_count": 314,
     "metadata": {},
     "output_type": "execute_result"
    }
   ],
   "source": [
    "Counter()"
   ]
  },
  {
   "cell_type": "code",
   "execution_count": 321,
   "metadata": {
    "collapsed": true
   },
   "outputs": [],
   "source": [
    "import collections as cl"
   ]
  },
  {
   "cell_type": "code",
   "execution_count": 316,
   "metadata": {},
   "outputs": [
    {
     "data": {
      "text/plain": [
       "Counter()"
      ]
     },
     "execution_count": 316,
     "metadata": {},
     "output_type": "execute_result"
    }
   ],
   "source": [
    "cl.Counter()"
   ]
  },
  {
   "cell_type": "code",
   "execution_count": 317,
   "metadata": {
    "collapsed": true
   },
   "outputs": [],
   "source": [
    "from collections import Counter as cntr"
   ]
  },
  {
   "cell_type": "code",
   "execution_count": 318,
   "metadata": {},
   "outputs": [
    {
     "data": {
      "text/plain": [
       "Counter()"
      ]
     },
     "execution_count": 318,
     "metadata": {},
     "output_type": "execute_result"
    }
   ],
   "source": [
    "cntr()"
   ]
  },
  {
   "cell_type": "code",
   "execution_count": 322,
   "metadata": {},
   "outputs": [
    {
     "name": "stdout",
     "output_type": "stream",
     "text": [
      "Collecting jieba\n",
      "  Using cached jieba-0.38.zip\n",
      "Installing collected packages: jieba\n",
      "  Running setup.py install for jieba ... \u001b[?25ldone\n",
      "\u001b[?25hSuccessfully installed jieba-0.38\n"
     ]
    }
   ],
   "source": [
    "!pip install jieba"
   ]
  },
  {
   "cell_type": "code",
   "execution_count": 323,
   "metadata": {
    "collapsed": true
   },
   "outputs": [],
   "source": [
    "import jieba"
   ]
  },
  {
   "cell_type": "code",
   "execution_count": 324,
   "metadata": {},
   "outputs": [
    {
     "data": {
      "text/plain": [
       "<generator object Tokenizer.cut at 0x111303e08>"
      ]
     },
     "execution_count": 324,
     "metadata": {},
     "output_type": "execute_result"
    }
   ],
   "source": [
    "jieba.cut(\"很多獨立樂迷自以為獨立音樂就是高尚瞧不起流行音樂\")"
   ]
  },
  {
   "cell_type": "code",
   "execution_count": 325,
   "metadata": {},
   "outputs": [
    {
     "name": "stderr",
     "output_type": "stream",
     "text": [
      "Building prefix dict from the default dictionary ...\n",
      "Dumping model to file cache /var/folders/l1/r1qz60zn2qv4sp2f8p_mdvxr0000gn/T/jieba.cache\n",
      "Loading model cost 1.029 seconds.\n",
      "Prefix dict has been built succesfully.\n"
     ]
    },
    {
     "name": "stdout",
     "output_type": "stream",
     "text": [
      "很多\n",
      "獨立樂迷\n",
      "自以\n",
      "為\n",
      "獨立\n",
      "音樂\n",
      "就是\n",
      "高尚\n",
      "瞧不起\n",
      "流行\n",
      "音樂\n"
     ]
    }
   ],
   "source": [
    "for word in jieba.cut(\"很多獨立樂迷自以為獨立音樂就是高尚瞧不起流行音樂\"):\n",
    "    print(word)"
   ]
  },
  {
   "cell_type": "code",
   "execution_count": null,
   "metadata": {
    "collapsed": true
   },
   "outputs": [],
   "source": [
    ""
   ]
  }
 ],
 "metadata": {
  "kernelspec": {
   "display_name": "Python 3",
   "language": "python",
   "name": "python3"
  },
  "language_info": {
   "codemirror_mode": {
    "name": "ipython",
    "version": 3.0
   },
   "file_extension": ".py",
   "mimetype": "text/x-python",
   "name": "python",
   "nbconvert_exporter": "python",
   "pygments_lexer": "ipython3",
   "version": "3.6.1"
  }
 },
 "nbformat": 4,
 "nbformat_minor": 0
}